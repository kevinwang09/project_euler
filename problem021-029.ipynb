{
 "cells": [
  {
   "cell_type": "markdown",
   "metadata": {},
   "source": [
    "# Problem 21: Amicable numbers"
   ]
  },
  {
   "cell_type": "markdown",
   "metadata": {},
   "source": [
    "Let d(n) be defined as the sum of proper divisors of n (numbers less than n which divide evenly into n).\n",
    "If d(a) = b and d(b) = a, where a ≠ b, then a and b are an amicable pair and each of a and b are called amicable numbers.\n",
    "\n",
    "For example, the proper divisors of 220 are 1, 2, 4, 5, 10, 11, 20, 22, 44, 55 and 110; therefore d(220) = 284. The proper divisors of 284 are 1, 2, 4, 71 and 142; so d(284) = 220.\n",
    "\n",
    "Evaluate the sum of all the amicable numbers under 10000."
   ]
  },
  {
   "cell_type": "code",
   "execution_count": 350,
   "metadata": {},
   "outputs": [
    {
     "name": "stdout",
     "output_type": "stream",
     "text": [
      "[1]\n",
      "[1, 5]\n",
      "[1, 5]\n"
     ]
    }
   ],
   "source": [
    "import math\n",
    "import numpy as np\n",
    "\n",
    "def find_factors_sqrt(x):\n",
    "    m = math.ceil(math.sqrt(x))\n",
    "    if x == 2:\n",
    "        factors = [1]\n",
    "    else:\n",
    "        factors = []\n",
    "        for i in range(1, m + 1): \n",
    "            if (x/i - int(x/i)) == 0: \n",
    "                factors.append(i)\n",
    "    return(factors)\n",
    "\n",
    "def find_divisors(x):\n",
    "    factors_sqrt = find_factors_sqrt(x)\n",
    "    opposites = [x/j for j in factors_sqrt]\n",
    "    result = factors_sqrt + opposites\n",
    "    result = [int(x) for x in result]\n",
    "    result.remove(x)\n",
    "    result = list(set(result)) ## Remove duplicates, occurrs when x is a perfect square\n",
    "    return(result)\n",
    "\n",
    "print(find_factors_sqrt(2))\n",
    "print(find_factors_sqrt(25))\n",
    "print(find_divisors(25))"
   ]
  },
  {
   "cell_type": "code",
   "execution_count": 351,
   "metadata": {},
   "outputs": [
    {
     "name": "stdout",
     "output_type": "stream",
     "text": [
      "284\n",
      "220\n"
     ]
    }
   ],
   "source": [
    "print(sum(find_divisors(x = 220)))\n",
    "print(sum(find_divisors(x = 284)))"
   ]
  },
  {
   "cell_type": "code",
   "execution_count": 352,
   "metadata": {},
   "outputs": [
    {
     "data": {
      "text/plain": [
       "10000"
      ]
     },
     "execution_count": 352,
     "metadata": {},
     "output_type": "execute_result"
    }
   ],
   "source": [
    "all_divisor_sum = [sum(find_divisors(x = x)) for x in range(1, 10001)]\n",
    "len(all_divisor_sum)"
   ]
  },
  {
   "cell_type": "code",
   "execution_count": 353,
   "metadata": {},
   "outputs": [
    {
     "name": "stdout",
     "output_type": "stream",
     "text": [
      "284\n",
      "220\n"
     ]
    }
   ],
   "source": [
    "print(all_divisor_sum[220-1])\n",
    "print(all_divisor_sum[284-1])"
   ]
  },
  {
   "cell_type": "code",
   "execution_count": 354,
   "metadata": {},
   "outputs": [
    {
     "name": "stdout",
     "output_type": "stream",
     "text": [
      "220: 284, 220\n",
      "284: 220, 284\n",
      "1184: 1210, 1184\n",
      "1210: 1184, 1210\n",
      "2620: 2924, 2620\n",
      "2924: 2620, 2924\n",
      "5020: 5564, 5020\n",
      "5564: 5020, 5564\n",
      "6232: 6368, 6232\n",
      "6368: 6232, 6368\n"
     ]
    }
   ],
   "source": [
    "amicable = []\n",
    "\n",
    "for j in range(1, 10000):\n",
    "    if all_divisor_sum[j-1] < 10000:\n",
    "        first = all_divisor_sum[j-1]\n",
    "        second = all_divisor_sum[first-1]\n",
    "        if j == second and first != second:\n",
    "            print(str(j) + \": \" + str(first) + \", \" + str(second))\n",
    "            amicable.append(first)\n",
    "            amicable.append(second)"
   ]
  },
  {
   "cell_type": "code",
   "execution_count": 355,
   "metadata": {},
   "outputs": [
    {
     "name": "stdout",
     "output_type": "stream",
     "text": [
      "[1184, 6368, 5564, 5020, 2924, 284, 6232, 1210, 220, 2620]\n",
      "31626\n"
     ]
    }
   ],
   "source": [
    "amicable = list(set(amicable))\n",
    "print(amicable)\n",
    "print(sum(amicable))"
   ]
  },
  {
   "cell_type": "markdown",
   "metadata": {},
   "source": [
    "# Problem 22:"
   ]
  },
  {
   "cell_type": "code",
   "execution_count": 356,
   "metadata": {},
   "outputs": [
    {
     "name": "stdout",
     "output_type": "stream",
     "text": [
      "['AARON', 'ABBEY', 'ABBIE', 'ABBY', 'ABDUL']\n",
      "5163\n"
     ]
    }
   ],
   "source": [
    "import pandas as pd\n",
    "\n",
    "p22_data = pd.read_csv(\"p022_names.txt\")\n",
    "p22 = sorted(list(p22_data.columns))\n",
    "print(p22[:5])\n",
    "print(len(p22))"
   ]
  },
  {
   "cell_type": "code",
   "execution_count": 357,
   "metadata": {},
   "outputs": [
    {
     "name": "stdout",
     "output_type": "stream",
     "text": [
      "65\n",
      "66\n"
     ]
    }
   ],
   "source": [
    "print(ord(\"A\"))\n",
    "print(ord(\"B\"))"
   ]
  },
  {
   "cell_type": "code",
   "execution_count": 358,
   "metadata": {},
   "outputs": [
    {
     "name": "stdout",
     "output_type": "stream",
     "text": [
      "COLIN\n",
      "[3, 15, 12, 9, 14]\n",
      "[[1, 1, 18, 15, 14], [1, 2, 2, 5, 25], [1, 2, 2, 9, 5], [1, 2, 2, 25], [1, 2, 4, 21, 12]]\n",
      "[49, 35, 19, 30, 40]\n",
      "[    49     70     57 ... 309660 402636 376899]\n",
      "871198282\n"
     ]
    }
   ],
   "source": [
    "p22_ord = [list(map(lambda j: ord(j) - 64, x)) for x in p22]\n",
    "p22_ord_sum = [sum(x) for x in p22_ord]\n",
    "p22_ord_sum_prod = np.array(p22_ord_sum) * np.array(list(range(1, len(p22) + 1)))\n",
    "p22_ord_sum_prod_sum = np.sum(p22_ord_sum_prod)\n",
    "\n",
    "print(p22[937])\n",
    "print(p22_ord[937])\n",
    "\n",
    "print(p22_ord[:5])\n",
    "print(p22_ord_sum[:5])\n",
    "print(p22_ord_sum_prod)\n",
    "print(p22_ord_sum_prod_sum)"
   ]
  },
  {
   "cell_type": "markdown",
   "metadata": {},
   "source": [
    "# Problem 23: Non-abundant sum\n",
    "\n",
    "A perfect number is a number for which the sum of its proper divisors is exactly equal to the number. For example, the sum of the proper divisors of 28 would be 1 + 2 + 4 + 7 + 14 = 28, which means that 28 is a perfect number.\n",
    "\n",
    "A number n is called deficient if the sum of its proper divisors is less than n and it is called abundant if this sum exceeds n.\n",
    "\n",
    "As 12 is the smallest abundant number, 1 + 2 + 3 + 4 + 6 = 16, the smallest number that can be written as the sum of two abundant numbers is 24. By mathematical analysis, it can be shown that all integers greater than 28123 can be written as the sum of two abundant numbers. However, this upper limit cannot be reduced any further by analysis even though it is known that the greatest number that cannot be expressed as the sum of two abundant numbers is less than this limit.\n",
    "\n",
    "Find the sum of all the positive integers which cannot be written as the sum of two abundant numbers."
   ]
  },
  {
   "cell_type": "markdown",
   "metadata": {},
   "source": [
    "We can first calculate all the abundant numbers below N = 28123. Then we can enumerate all possible sums between these abundant numbers below N. These numbers are then eliminated from the list of 1, ..., N. "
   ]
  },
  {
   "cell_type": "code",
   "execution_count": 359,
   "metadata": {},
   "outputs": [],
   "source": [
    "n = 28123\n",
    "listn = np.array(list(range(1, n + 1)))"
   ]
  },
  {
   "cell_type": "code",
   "execution_count": 360,
   "metadata": {},
   "outputs": [
    {
     "name": "stdout",
     "output_type": "stream",
     "text": [
      "[1 1 1 3 1 6 1 7 4 8]\n"
     ]
    }
   ],
   "source": [
    "list_abundant_sums = np.array([sum(find_divisors(x)) for x in listn])\n",
    "print(list_abundant_sums[:10])"
   ]
  },
  {
   "cell_type": "code",
   "execution_count": 362,
   "metadata": {},
   "outputs": [
    {
     "name": "stdout",
     "output_type": "stream",
     "text": [
      "[   12    18    20 ... 28116 28120 28122]\n",
      "6965\n",
      "[12 18 20 24 30 36 40 42 48 54]\n",
      "<class 'numpy.int32'>\n"
     ]
    }
   ],
   "source": [
    "list_abundant = listn[list_abundant_sums > listn]\n",
    "print(list_abundant)\n",
    "print(len(list_abundant))\n",
    "print(list_abundant[:10])\n",
    "print(type(list_abundant[0]))"
   ]
  },
  {
   "cell_type": "code",
   "execution_count": 363,
   "metadata": {},
   "outputs": [
    {
     "data": {
      "text/plain": [
       "1590"
      ]
     },
     "execution_count": 363,
     "metadata": {},
     "output_type": "execute_result"
    }
   ],
   "source": [
    "len(np.setdiff1d(list_abundant, list_abundant + 12))"
   ]
  },
  {
   "cell_type": "code",
   "execution_count": 364,
   "metadata": {},
   "outputs": [],
   "source": [
    "result = listn;\n",
    "# result = np.setdiff1d(listn, np.array(range(1, 13)))\n",
    "\n",
    "for i in list_abundant:\n",
    "    list_twosums = list_abundant + i\n",
    "    result = np.setdiff1d(result, list_twosums, assume_unique = False)"
   ]
  },
  {
   "cell_type": "code",
   "execution_count": 365,
   "metadata": {},
   "outputs": [
    {
     "name": "stdout",
     "output_type": "stream",
     "text": [
      "[    1     2     3 ... 18437 19067 20161]\n",
      "1456\n",
      "4179871\n"
     ]
    }
   ],
   "source": [
    "print(result)\n",
    "print(len(result))\n",
    "print(sum(result))"
   ]
  },
  {
   "cell_type": "markdown",
   "metadata": {},
   "source": [
    "# Problem 24: Lexicographic permutations\n",
    "\n",
    "A permutation is an ordered arrangement of objects. For example, 3124 is one possible permutation of the digits 1, 2, 3 and 4. If all of the permutations are listed numerically or alphabetically, we call it lexicographic order. The lexicographic permutations of 0, 1 and 2 are:\n",
    "\n",
    "012   021   102   120   201   210\n",
    "\n",
    "What is the millionth lexicographic permutation of the digits 0, 1, 2, 3, 4, 5, 6, 7, 8 and 9?"
   ]
  },
  {
   "cell_type": "markdown",
   "metadata": {},
   "source": [
    "Solution: Luckily, the itertools module does the sorting and permutations automatically "
   ]
  },
  {
   "cell_type": "code",
   "execution_count": 378,
   "metadata": {},
   "outputs": [
    {
     "name": "stdout",
     "output_type": "stream",
     "text": [
      "3628800\n"
     ]
    }
   ],
   "source": [
    "import itertools\n",
    "all_perm = list(itertools.permutations(range(0, 10)))\n",
    "print(len(all_perm))"
   ]
  },
  {
   "cell_type": "code",
   "execution_count": 379,
   "metadata": {},
   "outputs": [
    {
     "data": {
      "text/plain": [
       "[2, 7, 8, 3, 9, 1, 5, 4, 6, 0]"
      ]
     },
     "execution_count": 379,
     "metadata": {},
     "output_type": "execute_result"
    }
   ],
   "source": [
    "list(all_perm[int(1e6)-1])"
   ]
  },
  {
   "cell_type": "markdown",
   "metadata": {},
   "source": [
    "# Problem 25: 1000-digit Fibonacci number\n",
    "\n",
    "The Fibonacci sequence is defined by the recurrence relation:\n",
    "\n",
    "Fn = Fn−1 + Fn−2, where F1 = 1 and F2 = 1.\n",
    "Hence the first 12 terms will be:\n",
    "\n",
    "F1 = 1\n",
    "F2 = 1\n",
    "F3 = 2\n",
    "F4 = 3\n",
    "F5 = 5\n",
    "F6 = 8\n",
    "F7 = 13\n",
    "F8 = 21\n",
    "F9 = 34\n",
    "F10 = 55\n",
    "F11 = 89\n",
    "F12 = 144\n",
    "The 12th term, F12, is the first term to contain three digits.\n",
    "\n",
    "What is the index of the first term in the Fibonacci sequence to contain 1000 digits?"
   ]
  },
  {
   "cell_type": "code",
   "execution_count": 531,
   "metadata": {},
   "outputs": [],
   "source": [
    "a = 1\n",
    "b = 1\n",
    "i = 2"
   ]
  },
  {
   "cell_type": "code",
   "execution_count": 532,
   "metadata": {},
   "outputs": [],
   "source": [
    "while len(str(a)) <= 999 and len(str(b)) <= 999:\n",
    "    a = a + b\n",
    "    b = a + b\n",
    "    i = i + 2\n",
    "#     print(\"b_i = \" + str(i) + \",a = \" + str(a) + \",b = \" + str(b))"
   ]
  },
  {
   "cell_type": "code",
   "execution_count": 533,
   "metadata": {},
   "outputs": [
    {
     "name": "stdout",
     "output_type": "stream",
     "text": [
      "4782\n",
      "999\n",
      "1000\n"
     ]
    }
   ],
   "source": [
    "print(i) ## This is the index of b\n",
    "print(len(str(a)))\n",
    "print(len(str(b)))\n",
    "# print(a)\n",
    "# print(b)"
   ]
  },
  {
   "cell_type": "markdown",
   "metadata": {},
   "source": [
    "As number of b is 1000, but a did not, so the answer is i (otherwise it will be i - 1)"
   ]
  },
  {
   "cell_type": "markdown",
   "metadata": {},
   "source": [
    "# Problem 26: Reciprocal cycles\n",
    "\n",
    "A unit fraction contains 1 in the numerator. The decimal representation of the unit fractions with denominators 2 to 10 are given:\n",
    "\n",
    "1/2\t= \t0.5\n",
    "1/3\t= \t0.(3)\n",
    "1/4\t= \t0.25\n",
    "1/5\t= \t0.2\n",
    "1/6\t= \t0.1(6)\n",
    "1/7\t= \t0.(142857)\n",
    "1/8\t= \t0.125\n",
    "1/9\t= \t0.(1)\n",
    "1/10\t= \t0.1\n",
    "Where 0.1(6) means 0.166666..., and has a 1-digit recurring cycle. It can be seen that 1/7 has a 6-digit recurring cycle.\n",
    "\n",
    "Find the value of d < 1000 for which 1/d contains the longest recurring cycle in its decimal fraction part."
   ]
  },
  {
   "cell_type": "markdown",
   "metadata": {},
   "source": [
    "Solution: we will use a couple of theorems from https://mathworld.wolfram.com/DecimalExpansion.html\n",
    "1. Decimal expansion of m/n has a period of lambda(n), which is independent of m. In our problem m = 1, so this is helpful, we only need to consider n. \n",
    "2. Also, lambda(n) is at most n-1. This is also helpful because in our problem d = n < 1000. \n",
    "3. Equation 7 says that we need to find the pairs s and t satisfying 10^{s} \\equiv 10^{s+t} (mod n). \n",
    "\n",
    "Together with 2 means that we can simply calculate the mod of 1000 numbers (at most) and find out which pairs of them are identical. "
   ]
  },
  {
   "cell_type": "code",
   "execution_count": 561,
   "metadata": {},
   "outputs": [
    {
     "name": "stdout",
     "output_type": "stream",
     "text": [
      "16\n"
     ]
    }
   ],
   "source": [
    "def fast_power_exp(b, e, m): ## c = b^e (mod m)\n",
    "    c = 1\n",
    "    e_dash = 0\n",
    "    while e_dash < e:\n",
    "        e_dash = e_dash + 1\n",
    "        c = (b * c) % m\n",
    "#         print(\"c = \" + str(c),\n",
    "#               \"e_dash = \" + str(e_dash),\n",
    "#               \"e = \" + str(e))\n",
    "    return(c)\n",
    "        \n",
    "print(fast_power_exp(b = 10, e = 8, m = 84))"
   ]
  },
  {
   "cell_type": "markdown",
   "metadata": {},
   "source": [
    "## A small example "
   ]
  },
  {
   "cell_type": "code",
   "execution_count": 607,
   "metadata": {},
   "outputs": [
    {
     "name": "stdout",
     "output_type": "stream",
     "text": [
      "[1 3 2 6 4 5 1 3 2 6]\n",
      "(1000,)\n",
      "<class 'numpy.ndarray'>\n"
     ]
    }
   ],
   "source": [
    "n = 7 ## From the original problem, s should be 0 and t should be 6\n",
    "array_seven = np.array([fast_power_exp(b = 10, e = e, m = n) for e in range(0, 1000)])\n",
    "print(array_seven[:10])\n",
    "print(array_seven.shape)\n",
    "print(type(array_seven))"
   ]
  },
  {
   "cell_type": "code",
   "execution_count": 615,
   "metadata": {
    "scrolled": true
   },
   "outputs": [
    {
     "data": {
      "text/plain": [
       "array([0, 6], dtype=int64)"
      ]
     },
     "execution_count": 615,
     "metadata": {},
     "output_type": "execute_result"
    }
   ],
   "source": [
    "# print(np.sum(array_seven == 1))\n",
    "# print(np.where(array_seven == 1))\n",
    "tmp = np.where(array_seven == 1)\n",
    "tmp[0][0:2] ## numpy.where returns a tuple, so [0] gets rid of this"
   ]
  },
  {
   "cell_type": "code",
   "execution_count": 617,
   "metadata": {},
   "outputs": [
    {
     "name": "stdout",
     "output_type": "stream",
     "text": [
      "6\n"
     ]
    }
   ],
   "source": [
    "for i in array_seven:\n",
    "    binary = array_seven == i\n",
    "    if np.sum(binary) >= 2:\n",
    "        index = np.where(array_seven == i)[0][0:2]\n",
    "        t = index[1] - index[0]\n",
    "        print(t)\n",
    "        break"
   ]
  },
  {
   "cell_type": "markdown",
   "metadata": {},
   "source": [
    "## Full solution "
   ]
  },
  {
   "cell_type": "code",
   "execution_count": 618,
   "metadata": {},
   "outputs": [],
   "source": [
    "def longest_repeating_decimals(n):\n",
    "    array_powers = np.array([fast_power_exp(b = 10, e = e, m = n) for e in range(0, 1000)])\n",
    "    for i in array_powers:\n",
    "        binary = array_powers == i\n",
    "        if np.sum(binary) >= 2:\n",
    "            index = np.where(array_powers == i)[0][0:2]\n",
    "            t = index[1] - index[0]\n",
    "            return(t)"
   ]
  },
  {
   "cell_type": "code",
   "execution_count": 624,
   "metadata": {},
   "outputs": [
    {
     "name": "stdout",
     "output_type": "stream",
     "text": [
      "1\n",
      "6\n"
     ]
    }
   ],
   "source": [
    "print(longest_repeating_decimals(n = 6))\n",
    "print(longest_repeating_decimals(n = 7))"
   ]
  },
  {
   "cell_type": "code",
   "execution_count": 630,
   "metadata": {},
   "outputs": [
    {
     "data": {
      "text/plain": [
       "array([  1,   1,   1,   1,   1,   1,   6,   1,   1,   1,   2,   1,   6,\n",
       "         6,   1,   1,  16,   1,  18,   1,   6,   2,  22,   1,   1,   6,\n",
       "         3,   6,  28,   1,  15,   1,   2,  16,   6,   1,   3,  18,   6,\n",
       "         1,   5,   6,  21,   2,   1,  22,  46,   1,  42,   1,  16,   6,\n",
       "        13,   3,   2,   6,  18,  28,  58,   1,  60,  15,   6,   1,   6,\n",
       "         2,  33,  16,  22,   6,  35,   1,   8,   3,   1,  18,   6,   6,\n",
       "        13,   1,   9,   5,  41,   6,  16,  21,  28,   2,  44,   1,   6,\n",
       "        22,  15,  46,  18,   1,  96,  42,   2,   1,   4,  16,  34,   6,\n",
       "         6,  13,  53,   3, 108,   2,   3,   6, 112,  18,  22,  28,   6,\n",
       "        58,  48,   1,  22,  60,   5,  15,   1,   6,  42,   1,  21,   6,\n",
       "       130,   2,  18,  33,   3,  16,   8,  22,  46,   6,  46,  35,   6,\n",
       "         1,  28,   8,  42,   3, 148,   1,  75,  18,  16,   6,  15,   6,\n",
       "        78,  13,  13,   1,  66,   9,  81,   5,   2,  41, 166,   6,  78,\n",
       "        16,  18,  21,  43,  28,   6,   2,  58,  44, 178,   1, 180,   6,\n",
       "        60,  22,   3,  15,  16,  46,   6,  18,  95,   1, 192,  96,   6,\n",
       "        42,  98,   2,  99,   1,  33,   4,  84,  16,   5,  34,  22,   6,\n",
       "        18,   6,  30,  13,  35,  53,  21,   3,  30, 108,   8,   2,  48,\n",
       "         3, 222,   6,   1, 112, 113,  18, 228,  22,   6,  28, 232,   6,\n",
       "        46,  58,  13,  48,   7,   1,  30,  22,  27,  60,  42,   5,  18,\n",
       "        15,  41,   1,  50,   6,  22,  42,  16,   1, 256,  21,   6,   6,\n",
       "        28, 130, 262,   2,  13,  18,  44,  33, 268,   3,   5,  16,   6,\n",
       "         8,   2,  22,  69,  46,  15,   6,  28,  46, 141,  35,  18,   6,\n",
       "        30,   1, 272,  28,  96,   8, 146,  42,  58,   3,   6, 148,  66,\n",
       "         1,  42,  75,   4,  18,  60,  16, 153,   6,  34,  15, 155,   6,\n",
       "       312,  78,   6,  13,  79,  13,  28,   1,  53,  66, 144,   9,   6,\n",
       "        81, 108,   5, 138,   2, 110,  41,   3, 166,  33,   6, 336,  78,\n",
       "       112,  16,  30,  18, 294,  21,  22,  43, 173,  28, 116,   6,   6,\n",
       "         2,  32,  58,  35,  44,  48, 178, 179,   1, 342, 180,  22,   6,\n",
       "         8,  60, 366,  22,   5,   3,  78,  15, 186,  16,   1,  46,  84,\n",
       "         6, 378,  18,  42,  95, 382,   1,   6, 192,  21,  96, 388,   6,\n",
       "       176,  42, 130,  98,  13,   2,  99,  99,  18,   1, 200,  33,  30,\n",
       "         4,   9,  84,   6,  16, 204,   5,   8,  34, 174,  22,  41,   6,\n",
       "        46,  18, 418,   6, 140,  30,  46,  13,  16,  35,  60,  53,   6,\n",
       "        21, 215,   3, 432,  30,  28, 108, 198,   8, 219,   2,  42,  48,\n",
       "       221,   3,  44, 222, 148,   6,  32,   1,  10, 112,  75, 113,   6,\n",
       "        18, 152, 228,  48,  22, 460,   6, 154,  28,  15, 232, 233,   6,\n",
       "        66,  46,  78,  58,  42,  13,  18,  48,  13,   7, 239,   1,   6,\n",
       "        30,  66,  22,  96,  27, 486,  60,  81,  42, 490,   5, 112,  18,\n",
       "         2,  15, 210,  41, 498,   1, 166,  50, 502,   6,   4,  22,  78,\n",
       "        42, 508,  16,  24,   1,  18, 256,  34,  21,  46,   6,  43,   6,\n",
       "        52,  28, 261, 130,   6, 262, 240,   2, 506,  13,  58,  18,  30,\n",
       "        44,  53,  33, 178, 268,  42,   3, 540,   5, 180,  16, 108,   6,\n",
       "        91,   8,  60,   2, 252,  22,  78,  69,   3,  46, 278,  15,  42,\n",
       "         6,  16,  28, 281,  46, 112, 141,  18,  35, 284,  18, 570,   6,\n",
       "        95,  30,  22,   1, 576, 272, 192,  28, 246,  96,  26,   8,   6,\n",
       "       146, 293,  42,  90,  58,  98,   3, 592,   6,  48, 148,  99,  66,\n",
       "       299,   1, 300,  42,  33,  75,  22,   4, 202,  18,  84,  60, 138,\n",
       "        16,  51, 153,   5,   6,  88,  34, 618,  15,  66, 155, 132,   6,\n",
       "         1, 312,  18,  78,  48,   6, 315,  13,  30,  79,  42,  13,  42,\n",
       "        28,  35,   1,  32,  53, 107,  66,  21, 144, 646,   9,  58,   6,\n",
       "        30,  81, 326, 108, 130,   5,   8, 138, 658,   2, 220, 110,  48,\n",
       "        41,  18,   3, 308, 166, 222,  33,  60,   6, 224, 336,   3,  78,\n",
       "       338, 112,  96,  16, 113,  30, 341,  18,   8, 294, 228,  21,  78,\n",
       "        22, 230,  43,   6, 173,  46,  28,  80, 116, 232,   6, 700,   6,\n",
       "        18,   2,  46,  32,  12,  58, 708,  35,  13,  44, 330,  48,   6,\n",
       "       178,   7, 179, 359,   1, 102, 342,  30, 180,  28,  22, 726,   6,\n",
       "        81,   8, 336,  60,  61, 366,  42,  22,  66,   5, 246,   3,  18,\n",
       "        78, 742,  15, 148, 186,  41,  16, 318,   1, 125,  46,  50,  84,\n",
       "        75,   6,  27, 378,  22,  18, 380,  42, 108,  95,  16, 382, 174,\n",
       "         1, 192,   6, 256, 192, 193,  21,  15,  96,   6, 388,  90,   6,\n",
       "        70, 176,  84,  42,  78, 130, 393,  98, 262,  13, 336,   2,  60,\n",
       "        99,  13,  99, 199,  18, 368,   1,  44, 200,   8,  33,  66,  30,\n",
       "       268,   4, 202,   9, 810,  84,   5,   6,  81,  16, 126, 204,   6,\n",
       "         5, 820,   8, 822,  34,   2, 174, 413,  22, 276,  41,  69,   6,\n",
       "       336,  46, 166,  18,  15, 418, 419,   6, 812, 140,  28,  30,  78,\n",
       "        46,  66,  13, 141,  16,  66,  35, 213,  60,  18,  53, 856,   6,\n",
       "        26,  21,  30, 215, 862,   3,  43, 432, 272,  30,  26,  28,  66,\n",
       "       108,  96, 198,   6,   8, 438, 219, 146,   2, 440,  42, 441,  48,\n",
       "        58, 221, 886,   3,  42,  44,  18, 222, 414, 148, 178,   6,  66,\n",
       "        32, 420,   1, 208,  10,  42, 112, 180,  75, 151, 113,   4,   6,\n",
       "       455,  18,  82, 152,  60, 228, 390,  48, 459,  22, 153, 460, 210,\n",
       "         6,   3, 154,  34,  28, 464,  15, 126, 232, 155, 233,  16,   6,\n",
       "       936,  66, 312,  46, 940,  78, 110,  58,   6,  42, 473,  13,  24,\n",
       "        18,  79,  48, 952,  13,  95,   7,  28, 239,  24,   1, 465,   6,\n",
       "        53,  30, 192,  66, 322,  22, 144,  96, 970,  27, 138, 486,   6,\n",
       "        60, 976,  81,  44,  42, 108, 490, 982,   5,  98, 112, 138,  18,\n",
       "       462,   2, 495,  15, 110, 210,  99,  41, 166, 498,   3], dtype=int64)"
      ]
     },
     "execution_count": 630,
     "metadata": {},
     "output_type": "execute_result"
    }
   ],
   "source": [
    "all_repeats = np.array([longest_repeating_decimals(n) for n in range(1, 1000)])\n",
    "print(all_repeats[:20])"
   ]
  },
  {
   "cell_type": "code",
   "execution_count": 631,
   "metadata": {},
   "outputs": [
    {
     "data": {
      "text/plain": [
       "(array([982], dtype=int64),)"
      ]
     },
     "execution_count": 631,
     "metadata": {},
     "output_type": "execute_result"
    }
   ],
   "source": [
    "np.where(all_repeats == max(all_repeats))"
   ]
  },
  {
   "cell_type": "markdown",
   "metadata": {},
   "source": [
    "Because the answer index is 982, so the answer is 983"
   ]
  },
  {
   "cell_type": "markdown",
   "metadata": {},
   "source": [
    "# Problem 27: Skipped for now"
   ]
  },
  {
   "cell_type": "markdown",
   "metadata": {},
   "source": [
    "# Problem 28: Number spiral diagonals"
   ]
  },
  {
   "cell_type": "markdown",
   "metadata": {},
   "source": [
    "Starting with the number 1 and moving to the right in a clockwise direction a 5 by 5 spiral is formed as follows:\n",
    "\n",
    "21 22 23 24 25\n",
    "20  7  8  9 10\n",
    "19  6  1  2 11\n",
    "18  5  4  3 12\n",
    "17 16 15 14 13\n",
    "\n",
    "It can be verified that the sum of the numbers on the diagonals is 101.\n",
    "\n",
    "What is the sum of the numbers on the diagonals in a 1001 by 1001 spiral formed in the same way?"
   ]
  },
  {
   "cell_type": "markdown",
   "metadata": {},
   "source": [
    "Solution: Here is a bit of enumeration and explict mathematical formula can help us to improve the speed dramatically. Note that:\n",
    "1. n is always an odd number. \n",
    "2. When the (n-2)x(n-2) grid grows into the the nxn grid, we are only need to add four numbers. So the brute force approach of enumerating all numbers is not useful. \n",
    "3. We can break down the four directions to get our answer. \n",
    "+ The top right direction is always a perfect square, represented by A(n) = n^2\n",
    "+ The bottom right direction is always (n-1) units from the complete (n-2)x(n-2) grid, so B(n) = (n-2)^2 + (n-1).\n",
    "+ The bottom left direction is always (n-1) units from the B(n), so C(n) = (n-2)^2 + 2x(n-1).\n",
    "+ The top left direction is always (n-1) units from the C(n), so D(n) = (n-2)^2 + 3x(n-1).\n",
    "\n",
    "For each iteration, we can simply calculate A(n) + B(n) + C(n) + D(n) and add this to the previous total. "
   ]
  },
  {
   "cell_type": "code",
   "execution_count": 636,
   "metadata": {},
   "outputs": [],
   "source": [
    "def A(n):\n",
    "    return(n**2)\n",
    "\n",
    "def B(n):\n",
    "    return((n-2)**2 + (n-1))\n",
    "\n",
    "def C(n):\n",
    "    return((n-2)**2 + 2*(n-1))\n",
    "\n",
    "def D(n):\n",
    "    return((n-2)**2 + 3*(n-1))"
   ]
  },
  {
   "cell_type": "code",
   "execution_count": 638,
   "metadata": {},
   "outputs": [
    {
     "name": "stdout",
     "output_type": "stream",
     "text": [
      "669171001\n"
     ]
    }
   ],
   "source": [
    "total = 1\n",
    "for i in range(3, 1002, 2):\n",
    "    total = total + A(i) + B(i) + C(i) + D(i)\n",
    "\n",
    "print(total)"
   ]
  },
  {
   "cell_type": "markdown",
   "metadata": {},
   "source": [
    "# Problem 29: distinct powers\n",
    "\n",
    "Consider all integer combinations of ab for 2 ≤ a ≤ 5 and 2 ≤ b ≤ 5:\n",
    "\n",
    "22=4, 23=8, 24=16, 25=32\n",
    "32=9, 33=27, 34=81, 35=243\n",
    "42=16, 43=64, 44=256, 45=1024\n",
    "52=25, 53=125, 54=625, 55=3125\n",
    "If they are then placed in numerical order, with any repeats removed, we get the following sequence of 15 distinct terms:\n",
    "\n",
    "4, 8, 9, 16, 25, 27, 32, 64, 81, 125, 243, 256, 625, 1024, 3125\n",
    "\n",
    "How many distinct terms are in the sequence generated by ab for 2 ≤ a ≤ 100 and 2 ≤ b ≤ 100?"
   ]
  },
  {
   "cell_type": "markdown",
   "metadata": {},
   "source": [
    "## Brute force solution"
   ]
  },
  {
   "cell_type": "code",
   "execution_count": 645,
   "metadata": {},
   "outputs": [],
   "source": [
    "a = range(2, 101)\n",
    "b = range(2, 101)\n",
    "list_all = [i ** j for i in a for j in b]"
   ]
  },
  {
   "cell_type": "code",
   "execution_count": 646,
   "metadata": {},
   "outputs": [
    {
     "data": {
      "text/plain": [
       "9183"
      ]
     },
     "execution_count": 646,
     "metadata": {},
     "output_type": "execute_result"
    }
   ],
   "source": [
    "len(set(list_all))"
   ]
  },
  {
   "cell_type": "code",
   "execution_count": null,
   "metadata": {},
   "outputs": [],
   "source": []
  }
 ],
 "metadata": {
  "kernelspec": {
   "display_name": "Python 3",
   "language": "python",
   "name": "python3"
  },
  "language_info": {
   "codemirror_mode": {
    "name": "ipython",
    "version": 3
   },
   "file_extension": ".py",
   "mimetype": "text/x-python",
   "name": "python",
   "nbconvert_exporter": "python",
   "pygments_lexer": "ipython3",
   "version": "3.8.5"
  }
 },
 "nbformat": 4,
 "nbformat_minor": 4
}
