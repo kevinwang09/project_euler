{
 "cells": [
  {
   "cell_type": "markdown",
   "metadata": {},
   "source": [
    "# Problem 21: Amicable numbers"
   ]
  },
  {
   "cell_type": "markdown",
   "metadata": {},
   "source": [
    "Let d(n) be defined as the sum of proper divisors of n (numbers less than n which divide evenly into n).\n",
    "If d(a) = b and d(b) = a, where a ≠ b, then a and b are an amicable pair and each of a and b are called amicable numbers.\n",
    "\n",
    "For example, the proper divisors of 220 are 1, 2, 4, 5, 10, 11, 20, 22, 44, 55 and 110; therefore d(220) = 284. The proper divisors of 284 are 1, 2, 4, 71 and 142; so d(284) = 220.\n",
    "\n",
    "Evaluate the sum of all the amicable numbers under 10000."
   ]
  },
  {
   "cell_type": "code",
   "execution_count": 34,
   "metadata": {},
   "outputs": [],
   "source": [
    "import math\n",
    "import numpy as np\n",
    "\n",
    "def find_factors_sqrt(x):\n",
    "    m = math.ceil(math.sqrt(x))\n",
    "    factors = [1]\n",
    "    for i in range(2, m): \n",
    "        if (x/i - int(x/i)) == 0: \n",
    "            factors.append(i)\n",
    "    return(factors)\n",
    "\n",
    "def find_divisors(x):\n",
    "    factors_sqrt = find_factors_sqrt(x)\n",
    "    opposites = [x/j for j in factors_sqrt]\n",
    "    result = factors_sqrt + opposites\n",
    "    result = [int(x) for x in result]\n",
    "    result.remove(x)\n",
    "    return(result)"
   ]
  },
  {
   "cell_type": "code",
   "execution_count": 41,
   "metadata": {},
   "outputs": [
    {
     "name": "stdout",
     "output_type": "stream",
     "text": [
      "284\n",
      "220\n"
     ]
    }
   ],
   "source": [
    "print(sum(find_divisors(x = 220)))\n",
    "print(sum(find_divisors(x = 284)))"
   ]
  },
  {
   "cell_type": "code",
   "execution_count": 123,
   "metadata": {},
   "outputs": [
    {
     "data": {
      "text/plain": [
       "10000"
      ]
     },
     "execution_count": 123,
     "metadata": {},
     "output_type": "execute_result"
    }
   ],
   "source": [
    "all_divisor_sum = [sum(find_divisors(x = x)) for x in range(1, 10001)]\n",
    "len(all_divisor_sum)"
   ]
  },
  {
   "cell_type": "code",
   "execution_count": 124,
   "metadata": {},
   "outputs": [
    {
     "name": "stdout",
     "output_type": "stream",
     "text": [
      "284\n",
      "220\n"
     ]
    }
   ],
   "source": [
    "print(all_divisor_sum[220-1])\n",
    "print(all_divisor_sum[284-1])"
   ]
  },
  {
   "cell_type": "code",
   "execution_count": 126,
   "metadata": {},
   "outputs": [
    {
     "name": "stdout",
     "output_type": "stream",
     "text": [
      "220: 284, 220\n",
      "284: 220, 284\n",
      "1184: 1210, 1184\n",
      "1210: 1184, 1210\n",
      "2620: 2924, 2620\n",
      "2924: 2620, 2924\n",
      "5020: 5564, 5020\n",
      "5564: 5020, 5564\n",
      "6232: 6368, 6232\n",
      "6368: 6232, 6368\n"
     ]
    }
   ],
   "source": [
    "amicable = []\n",
    "\n",
    "for j in range(1, 10000):\n",
    "    if all_divisor_sum[j-1] < 10000:\n",
    "        first = all_divisor_sum[j-1]\n",
    "        second = all_divisor_sum[first-1]\n",
    "        if j == second and first != second:\n",
    "            print(str(j) + \": \" + str(first) + \", \" + str(second))\n",
    "            amicable.append(first)\n",
    "            amicable.append(second)"
   ]
  },
  {
   "cell_type": "code",
   "execution_count": 129,
   "metadata": {},
   "outputs": [
    {
     "name": "stdout",
     "output_type": "stream",
     "text": [
      "[1184, 6368, 5564, 5020, 2924, 284, 6232, 1210, 220, 2620]\n",
      "31626\n"
     ]
    }
   ],
   "source": [
    "amicable = list(set(amicable))\n",
    "print(amicable)\n",
    "print(sum(amicable))"
   ]
  },
  {
   "cell_type": "markdown",
   "metadata": {},
   "source": [
    "# Problem 22:"
   ]
  },
  {
   "cell_type": "code",
   "execution_count": 168,
   "metadata": {},
   "outputs": [
    {
     "name": "stdout",
     "output_type": "stream",
     "text": [
      "['AARON', 'ABBEY', 'ABBIE', 'ABBY', 'ABDUL']\n",
      "5163\n"
     ]
    }
   ],
   "source": [
    "import pandas as pd\n",
    "\n",
    "p22_data = pd.read_csv(\"p022_names.txt\")\n",
    "p22 = sorted(list(p22_data.columns))\n",
    "print(p22[:5])\n",
    "print(len(p22))"
   ]
  },
  {
   "cell_type": "code",
   "execution_count": 169,
   "metadata": {},
   "outputs": [
    {
     "name": "stdout",
     "output_type": "stream",
     "text": [
      "65\n",
      "66\n"
     ]
    }
   ],
   "source": [
    "print(ord(\"A\"))\n",
    "print(ord(\"B\"))"
   ]
  },
  {
   "cell_type": "code",
   "execution_count": 175,
   "metadata": {},
   "outputs": [
    {
     "name": "stdout",
     "output_type": "stream",
     "text": [
      "COLIN\n",
      "[3, 15, 12, 9, 14]\n"
     ]
    }
   ],
   "source": []
  },
  {
   "cell_type": "code",
   "execution_count": 176,
   "metadata": {},
   "outputs": [
    {
     "name": "stdout",
     "output_type": "stream",
     "text": [
      "COLIN\n",
      "[3, 15, 12, 9, 14]\n",
      "[[1, 1, 18, 15, 14], [1, 2, 2, 5, 25], [1, 2, 2, 9, 5], [1, 2, 2, 25], [1, 2, 4, 21, 12]]\n",
      "[49, 35, 19, 30, 40]\n",
      "[    49     70     57 ... 309660 402636 376899]\n",
      "871198282\n"
     ]
    }
   ],
   "source": [
    "p22_ord = [list(map(lambda j: ord(j) - 64, x)) for x in p22]\n",
    "p22_ord_sum = [sum(x) for x in p22_ord]\n",
    "p22_ord_sum_prod = np.array(p22_ord_sum) * np.array(list(range(1, len(p22) + 1)))\n",
    "p22_ord_sum_prod_sum = np.sum(p22_ord_sum_prod)\n",
    "\n",
    "print(p22[937])\n",
    "print(p22_ord[937])\n",
    "\n",
    "print(p22_ord[:5])\n",
    "print(p22_ord_sum[:5])\n",
    "print(p22_ord_sum_prod)\n",
    "print(p22_ord_sum_prod_sum)"
   ]
  },
  {
   "cell_type": "code",
   "execution_count": null,
   "metadata": {},
   "outputs": [],
   "source": []
  },
  {
   "cell_type": "code",
   "execution_count": null,
   "metadata": {},
   "outputs": [],
   "source": []
  },
  {
   "cell_type": "code",
   "execution_count": null,
   "metadata": {},
   "outputs": [],
   "source": []
  },
  {
   "cell_type": "code",
   "execution_count": null,
   "metadata": {},
   "outputs": [],
   "source": [
    "def sum_digits(x):\n",
    "    s = list(str(x))\n",
    "    s_num = np.array(list(map(int, s)))\n",
    "    return(s_num.sum())"
   ]
  }
 ],
 "metadata": {
  "kernelspec": {
   "display_name": "Python 3",
   "language": "python",
   "name": "python3"
  },
  "language_info": {
   "codemirror_mode": {
    "name": "ipython",
    "version": 3
   },
   "file_extension": ".py",
   "mimetype": "text/x-python",
   "name": "python",
   "nbconvert_exporter": "python",
   "pygments_lexer": "ipython3",
   "version": "3.8.5"
  }
 },
 "nbformat": 4,
 "nbformat_minor": 4
}
