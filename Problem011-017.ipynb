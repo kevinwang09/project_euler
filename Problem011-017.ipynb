{
 "cells": [
  {
   "cell_type": "markdown",
   "id": "brutal-scotland",
   "metadata": {},
   "source": [
    "# Problem 11: Largest product in a grid\n",
    "\n",
    "Still can't get the right answer"
   ]
  },
  {
   "cell_type": "code",
   "execution_count": 1,
   "id": "annoying-hindu",
   "metadata": {},
   "outputs": [
    {
     "name": "stdout",
     "output_type": "stream",
     "text": [
      "2\n",
      "0\n"
     ]
    }
   ],
   "source": [
    "print(int(\"02\"))\n",
    "print(int(\"00\"))"
   ]
  },
  {
   "cell_type": "code",
   "execution_count": 2,
   "id": "material-semiconductor",
   "metadata": {},
   "outputs": [
    {
     "name": "stdout",
     "output_type": "stream",
     "text": [
      "[[ 8  2 22 97 38 15  0 40  0 75  4  5  7 78 52 12 50 77 91  8]\n",
      " [49 49 99 40 17 81 18 57 60 87 17 40 98 43 69 48  4 56 62  0]\n",
      " [81 49 31 73 55 79 14 29 93 71 40 67 53 88 30  3 49 13 36 65]\n",
      " [52 70 95 23  4 60 11 42 69 24 68 56  1 32 56 71 37  2 36 91]\n",
      " [22 31 16 71 51 67 63 89 41 92 36 54 22 40 40 28 66 33 13 80]\n",
      " [24 47 32 60 99  3 45  2 44 75 33 53 78 36 84 20 35 17 12 50]\n",
      " [32 98 81 28 64 23 67 10 26 38 40 67 59 54 70 66 18 38 64 70]\n",
      " [67 26 20 68  2 62 12 20 95 63 94 39 63  8 40 91 66 49 94 21]\n",
      " [24 55 58  5 66 73 99 26 97 17 78 78 96 83 14 88 34 89 63 72]\n",
      " [21 36 23  9 75  0 76 44 20 45 35 14  0 61 33 97 34 31 33 95]\n",
      " [78 17 53 28 22 75 31 67 15 94  3 80  4 62 16 14  9 53 56 92]\n",
      " [16 39  5 42 96 35 31 47 55 58 88 24  0 17 54 24 36 29 85 57]\n",
      " [86 56  0 48 35 71 89  7  5 44 44 37 44 60 21 58 51 54 17 58]\n",
      " [19 80 81 68  5 94 47 69 28 73 92 13 86 52 17 77  4 89 55 40]\n",
      " [ 4 52  8 83 97 35 99 16  7 97 57 32 16 26 26 79 33 27 98 66]\n",
      " [88 36 68 87 57 62 20 72  3 46 33 67 46 55 12 32 63 93 53 69]\n",
      " [ 4 42 16 73 38 25 39 11 24 94 72 18  8 46 29 32 40 62 76 36]\n",
      " [20 69 36 41 72 30 23 88 34 62 99 69 82 67 59 85 74  4 36 16]\n",
      " [20 73 35 29 78 31 90  1 74 31 49 71 48 86 81 16 23 57  5 54]\n",
      " [ 1 70 54 71 83 51 54 69 16 92 33 48 61 43 52  1 89 19 67 48]]\n"
     ]
    },
    {
     "data": {
      "text/plain": [
       "(20, 20)"
      ]
     },
     "execution_count": 2,
     "metadata": {},
     "output_type": "execute_result"
    }
   ],
   "source": [
    "import numpy as np\n",
    "\n",
    "input = np.loadtxt(\"problem11.txt\", dtype='i', delimiter=' ')\n",
    "print(input)\n",
    "input.shape"
   ]
  },
  {
   "cell_type": "markdown",
   "id": "objective-stress",
   "metadata": {},
   "source": [
    "## Rowwise computations"
   ]
  },
  {
   "cell_type": "code",
   "execution_count": 5,
   "id": "cathedral-prague",
   "metadata": {},
   "outputs": [
    {
     "data": {
      "text/plain": [
       "34144"
      ]
     },
     "execution_count": 5,
     "metadata": {},
     "output_type": "execute_result"
    }
   ],
   "source": [
    "np.prod(input[0, 0:4])"
   ]
  },
  {
   "cell_type": "code",
   "execution_count": 6,
   "id": "provincial-louisiana",
   "metadata": {},
   "outputs": [
    {
     "name": "stdout",
     "output_type": "stream",
     "text": [
      "[ 8  2 22 97 38 15  0 40  0 75  4  5  7 78 52 12 50 77 91  8]\n"
     ]
    },
    {
     "data": {
      "text/plain": [
       "numpy.ndarray"
      ]
     },
     "execution_count": 6,
     "metadata": {},
     "output_type": "execute_result"
    }
   ],
   "source": [
    "print(input[0,:])\n",
    "type(input[0,:])"
   ]
  },
  {
   "cell_type": "code",
   "execution_count": 9,
   "id": "cooked-american",
   "metadata": {},
   "outputs": [
    {
     "name": "stdout",
     "output_type": "stream",
     "text": [
      "[  34144  162184 1216380       0       0       0       0       0       0\n",
      "   10500   10920  141960  340704 2433600 2402400 4204200 2802800]\n"
     ]
    },
    {
     "data": {
      "text/plain": [
       "numpy.ndarray"
      ]
     },
     "execution_count": 9,
     "metadata": {},
     "output_type": "execute_result"
    }
   ],
   "source": [
    "i = 0\n",
    "print(np.array([np.prod(input[i, j:(j+4)]) for j in range(0, 20-3)]))\n",
    "type(np.array([np.prod(input[i, j:(j+4)]) for j in range(0, 20-3)]))"
   ]
  },
  {
   "cell_type": "code",
   "execution_count": 11,
   "id": "functioning-juice",
   "metadata": {},
   "outputs": [
    {
     "name": "stdout",
     "output_type": "stream",
     "text": [
      "(20, 17)\n"
     ]
    }
   ],
   "source": [
    "row_result = np.zeros((20, 17))\n",
    "\n",
    "for i in range(0, 20):\n",
    "    row_result[i,:] = np.array([np.prod(input[i, j:(j+4)]) for j in range(0, 20-3)])\n",
    "print(row_result.shape)"
   ]
  },
  {
   "cell_type": "markdown",
   "id": "helpful-selling",
   "metadata": {},
   "source": [
    "## Column result"
   ]
  },
  {
   "cell_type": "code",
   "execution_count": 12,
   "id": "horizontal-product",
   "metadata": {},
   "outputs": [
    {
     "data": {
      "text/plain": [
       "array([  268380, 22275540, 16229322, 16229322, 15772158,  3040416,\n",
       "        5484672,  3351744,  2331648,  8889408,  4154832,  6547008,\n",
       "         136396,   199004,    87932,   113297,  5438256])"
      ]
     },
     "execution_count": 12,
     "metadata": {},
     "output_type": "execute_result"
    }
   ],
   "source": [
    "np.array([np.prod(input[i, j:(j+4)]) for j in range(0, 20-3)])"
   ]
  },
  {
   "cell_type": "code",
   "execution_count": 13,
   "id": "light-worker",
   "metadata": {},
   "outputs": [
    {
     "name": "stdout",
     "output_type": "stream",
     "text": [
      "(17, 20)\n"
     ]
    }
   ],
   "source": [
    "col_result = np.zeros((17, 20))\n",
    "\n",
    "for j in range(0, 20):\n",
    "    col_result[:,j] = np.array([np.prod(input[i:(i+4), j]) for i in range(0, 20-3)])\n",
    "print(col_result.shape)"
   ]
  },
  {
   "cell_type": "markdown",
   "id": "narrative-posting",
   "metadata": {},
   "source": [
    "## Diagonal result"
   ]
  },
  {
   "cell_type": "code",
   "execution_count": 18,
   "id": "assumed-independence",
   "metadata": {},
   "outputs": [
    {
     "name": "stdout",
     "output_type": "stream",
     "text": [
      "[[ 8  2 22 97]\n",
      " [49 49 99 40]\n",
      " [81 49 31 73]\n",
      " [52 70 95 23]]\n"
     ]
    },
    {
     "data": {
      "text/plain": [
       "279496"
      ]
     },
     "execution_count": 18,
     "metadata": {},
     "output_type": "execute_result"
    }
   ],
   "source": [
    "print(input[0:4,0:4])\n",
    "np.prod(np.diag(input[0:4,0:4]))"
   ]
  },
  {
   "cell_type": "code",
   "execution_count": 15,
   "id": "about-latino",
   "metadata": {},
   "outputs": [
    {
     "name": "stdout",
     "output_type": "stream",
     "text": [
      "(17, 17)\n"
     ]
    }
   ],
   "source": [
    "diag_result = np.zeros((17, 17))\n",
    "\n",
    "for i in range(0, 17):\n",
    "    diag_result[i,:] = np.array([np.prod(np.diag(input[i:(i+4), j:(j+4)])) for j in range(0, 20-3)])\n",
    "print(diag_result.shape)"
   ]
  },
  {
   "cell_type": "markdown",
   "id": "legendary-moral",
   "metadata": {},
   "source": [
    "## Anti-diagonal"
   ]
  },
  {
   "cell_type": "code",
   "execution_count": 19,
   "id": "blocked-engine",
   "metadata": {},
   "outputs": [
    {
     "name": "stdout",
     "output_type": "stream",
     "text": [
      "[[ 8  2 22 97]\n",
      " [49 49 99 40]\n",
      " [81 49 31 73]\n",
      " [52 70 95 23]]\n"
     ]
    },
    {
     "data": {
      "text/plain": [
       "24468444"
      ]
     },
     "execution_count": 19,
     "metadata": {},
     "output_type": "execute_result"
    }
   ],
   "source": [
    "def anti_diagonal(arr):\n",
    "    return np.fliplr(arr).diagonal()\n",
    "\n",
    "print(input[0:4,0:4])\n",
    "np.prod(anti_diagonal(input[0:4,0:4]))"
   ]
  },
  {
   "cell_type": "code",
   "execution_count": 20,
   "id": "white-reducing",
   "metadata": {},
   "outputs": [
    {
     "name": "stdout",
     "output_type": "stream",
     "text": [
      "(17, 17)\n"
     ]
    }
   ],
   "source": [
    "adiag_result = np.zeros((17, 17))\n",
    "\n",
    "for i in range(0, 17):\n",
    "    adiag_result[i,:] = np.array([np.prod(anti_diagonal(input[i:(i+4), j:(j+4)])) for j in range(0, 20-3)])\n",
    "print(adiag_result.shape)"
   ]
  },
  {
   "cell_type": "code",
   "execution_count": 21,
   "id": "bright-desert",
   "metadata": {},
   "outputs": [
    {
     "name": "stdout",
     "output_type": "stream",
     "text": [
      "48477312.0\n",
      "51267216.0\n",
      "40304286.0\n",
      "70600674.0\n"
     ]
    }
   ],
   "source": [
    "print(np.amax(row_result))\n",
    "print(np.amax(col_result))\n",
    "print(np.amax(diag_result))\n",
    "print(np.amax(adiag_result))"
   ]
  },
  {
   "cell_type": "markdown",
   "id": "given-fighter",
   "metadata": {},
   "source": [
    "# Problem 12: Highly divisible triangular number:\n",
    "The sequence of triangle numbers is generated by adding the natural numbers. So the 7th triangle number would be 1 + 2 + 3 + 4 + 5 + 6 + 7 = 28. The first ten terms would be:\n",
    "\n",
    "1, 3, 6, 10, 15, 21, 28, 36, 45, 55, ...\n",
    "\n",
    "Let us list the factors of the first seven triangle numbers:\n",
    "\n",
    " 1: 1\n",
    " 3: 1,3\n",
    " 6: 1,2,3,6\n",
    "10: 1,2,5,10\n",
    "15: 1,3,5,15\n",
    "21: 1,3,7,21\n",
    "28: 1,2,4,7,14,28\n",
    "We can see that 28 is the first triangle number to have over five divisors.\n",
    "\n",
    "What is the value of the first triangle number to have over five hundred divisors?"
   ]
  },
  {
   "cell_type": "code",
   "execution_count": 15,
   "id": "cardiovascular-cameroon",
   "metadata": {},
   "outputs": [],
   "source": [
    "import math\n",
    "\n",
    "def find_divisors(x):\n",
    "    m = math.ceil(math.sqrt(x))\n",
    "    factors = []\n",
    "    for i in range(1, m+1): \n",
    "        if (x % i) == 0: \n",
    "            factors.append(i)\n",
    "            factors.append(int(x/i))\n",
    "    factors = list( dict.fromkeys(factors) )\n",
    "    return(factors)"
   ]
  },
  {
   "cell_type": "code",
   "execution_count": 21,
   "id": "cross-rental",
   "metadata": {},
   "outputs": [
    {
     "data": {
      "text/plain": [
       "[1, 6, 2, 3]"
      ]
     },
     "execution_count": 21,
     "metadata": {},
     "output_type": "execute_result"
    }
   ],
   "source": [
    "find_divisors(6)"
   ]
  },
  {
   "cell_type": "code",
   "execution_count": 41,
   "id": "scenic-tulsa",
   "metadata": {},
   "outputs": [],
   "source": [
    "i = 0\n",
    "tri_num = 0\n",
    "keep_computing = True\n",
    "\n",
    "while keep_computing:\n",
    "    tri_num = tri_num + i\n",
    "    if(len(find_divisors(tri_num)) >= 500):\n",
    "        keep_computing = False\n",
    "        break\n",
    "    i = i + 1"
   ]
  },
  {
   "cell_type": "code",
   "execution_count": 42,
   "id": "enabling-harvey",
   "metadata": {},
   "outputs": [
    {
     "name": "stdout",
     "output_type": "stream",
     "text": [
      "76576500\n",
      "12375\n"
     ]
    }
   ],
   "source": [
    "print(tri_num)\n",
    "print(i)"
   ]
  },
  {
   "cell_type": "markdown",
   "id": "foster-saskatchewan",
   "metadata": {},
   "source": [
    "# Problem 13:"
   ]
  },
  {
   "cell_type": "markdown",
   "id": "laden-protein",
   "metadata": {},
   "source": [
    "# Problem 14: Longest Collatz sequence\n",
    "\n",
    "The following iterative sequence is defined for the set of positive integers:\n",
    "\n",
    "n → n/2 (n is even)\n",
    "n → 3n + 1 (n is odd)\n",
    "\n",
    "Using the rule above and starting with 13, we generate the following sequence:\n",
    "\n",
    "13 → 40 → 20 → 10 → 5 → 16 → 8 → 4 → 2 → 1\n",
    "It can be seen that this sequence (starting at 13 and finishing at 1) contains 10 terms. Although it has not been proved yet (Collatz Problem), it is thought that all starting numbers finish at 1.\n",
    "\n",
    "Which starting number, under one million, produces the longest chain?\n",
    "\n",
    "NOTE: Once the chain starts the terms are allowed to go above one million.\n"
   ]
  },
  {
   "cell_type": "code",
   "execution_count": 5,
   "id": "earlier-house",
   "metadata": {},
   "outputs": [],
   "source": [
    "def collatz(x):\n",
    "    i = 1\n",
    "    while x != 1:\n",
    "        if x % 2 == 1:\n",
    "            x = 3*x + 1\n",
    "        else:\n",
    "            x = x/2\n",
    "        i = i + 1\n",
    "    return(i)"
   ]
  },
  {
   "cell_type": "code",
   "execution_count": 6,
   "id": "chemical-statement",
   "metadata": {},
   "outputs": [
    {
     "data": {
      "text/plain": [
       "10"
      ]
     },
     "execution_count": 6,
     "metadata": {},
     "output_type": "execute_result"
    }
   ],
   "source": [
    "collatz(13)"
   ]
  },
  {
   "cell_type": "code",
   "execution_count": 19,
   "id": "worth-stupid",
   "metadata": {},
   "outputs": [],
   "source": [
    "result = [collatz(i) for i in range(1, int(1e6))]"
   ]
  },
  {
   "cell_type": "code",
   "execution_count": 20,
   "id": "broken-franklin",
   "metadata": {},
   "outputs": [],
   "source": [
    "import numpy as np"
   ]
  },
  {
   "cell_type": "raw",
   "id": "delayed-arbitration",
   "metadata": {},
   "source": [
    "max(result)"
   ]
  },
  {
   "cell_type": "code",
   "execution_count": 30,
   "id": "fatty-occupation",
   "metadata": {},
   "outputs": [
    {
     "name": "stdout",
     "output_type": "stream",
     "text": [
      "(array([837798], dtype=int64),)\n"
     ]
    }
   ],
   "source": [
    "result_array = np.array(result)\n",
    "print(np.where(result_array == max(result_array)))"
   ]
  },
  {
   "cell_type": "markdown",
   "id": "descending-plasma",
   "metadata": {},
   "source": [
    "The answer is 837799, which is one more than the index in the result above because of zero indexing in Python"
   ]
  },
  {
   "cell_type": "markdown",
   "id": "silver-station",
   "metadata": {},
   "source": [
    "# Problem 15: Power digit sum\n",
    "2^15 = 32768 and the sum of its digits is 3 + 2 + 7 + 6 + 8 = 26.\n",
    "\n",
    "What is the sum of the digits of the number 2^1000?"
   ]
  },
  {
   "cell_type": "code",
   "execution_count": 8,
   "id": "vanilla-slide",
   "metadata": {},
   "outputs": [
    {
     "data": {
      "text/plain": [
       "[2, 4, 8, 7, 5, 10, 11, 13, 8]"
      ]
     },
     "execution_count": 8,
     "metadata": {},
     "output_type": "execute_result"
    }
   ],
   "source": [
    "[sum(map(int, str(2 ** i))) for i in range(1, 10)]"
   ]
  },
  {
   "cell_type": "code",
   "execution_count": 9,
   "id": "coastal-reverse",
   "metadata": {},
   "outputs": [
    {
     "data": {
      "text/plain": [
       "1366"
      ]
     },
     "execution_count": 9,
     "metadata": {},
     "output_type": "execute_result"
    }
   ],
   "source": [
    "sum(map(int, str(2 ** 1000)))"
   ]
  },
  {
   "cell_type": "markdown",
   "id": "female-accreditation",
   "metadata": {},
   "source": [
    "# Problem 17: Number letter counts\n",
    "\n",
    "If the numbers 1 to 5 are written out in words: one, two, three, four, five, then there are 3 + 3 + 5 + 4 + 4 = 19 letters used in total.\n",
    "\n",
    "If all the numbers from 1 to 1000 (one thousand) inclusive were written out in words, how many letters would be used?\n",
    "\n",
    "\n",
    "NOTE: Do not count spaces or hyphens. For example, 342 (three hundred and forty-two) contains 23 letters and 115 (one hundred and fifteen) contains 20 letters. The use of \"and\" when writing out numbers is in compliance with British usage."
   ]
  },
  {
   "cell_type": "code",
   "execution_count": 2,
   "id": "enabling-breakdown",
   "metadata": {},
   "outputs": [
    {
     "name": "stdout",
     "output_type": "stream",
     "text": [
      "Collecting num2words\n",
      "  Downloading num2words-0.5.10-py3-none-any.whl (101 kB)\n",
      "Collecting docopt>=0.6.2\n",
      "  Downloading docopt-0.6.2.tar.gz (25 kB)\n",
      "Building wheels for collected packages: docopt\n",
      "  Building wheel for docopt (setup.py): started\n",
      "  Building wheel for docopt (setup.py): finished with status 'done'\n",
      "  Created wheel for docopt: filename=docopt-0.6.2-py2.py3-none-any.whl size=13709 sha256=1772b091a51d2aea6b1fa7e971d6edbaff19c4df1bc4d6f82a380cee68848f8d\n",
      "  Stored in directory: c:\\users\\kevin\\appdata\\local\\pip\\cache\\wheels\\56\\ea\\58\\ead137b087d9e326852a851351d1debf4ada529b6ac0ec4e8c\n",
      "Successfully built docopt\n",
      "Installing collected packages: docopt, num2words\n",
      "Successfully installed docopt-0.6.2 num2words-0.5.10\n"
     ]
    }
   ],
   "source": [
    "! pip install num2words"
   ]
  },
  {
   "cell_type": "code",
   "execution_count": 4,
   "id": "addressed-intelligence",
   "metadata": {},
   "outputs": [],
   "source": [
    "from num2words import num2words"
   ]
  },
  {
   "cell_type": "code",
   "execution_count": 5,
   "id": "disciplinary-renaissance",
   "metadata": {},
   "outputs": [
    {
     "data": {
      "text/plain": [
       "'forty-two'"
      ]
     },
     "execution_count": 5,
     "metadata": {},
     "output_type": "execute_result"
    }
   ],
   "source": [
    "num2words(42)"
   ]
  },
  {
   "cell_type": "code",
   "execution_count": 12,
   "id": "generic-aside",
   "metadata": {},
   "outputs": [
    {
     "data": {
      "text/plain": [
       "'fortytwo'"
      ]
     },
     "execution_count": 12,
     "metadata": {},
     "output_type": "execute_result"
    }
   ],
   "source": [
    "num2words(42).replace(\"-\", \"\").replace(\" \", \"\")"
   ]
  },
  {
   "cell_type": "code",
   "execution_count": 13,
   "id": "wanted-provider",
   "metadata": {},
   "outputs": [],
   "source": [
    "all_words = [num2words(i).replace(\"-\", \"\").replace(\" \", \"\") for i in range(1, 1001)]"
   ]
  },
  {
   "cell_type": "code",
   "execution_count": 14,
   "id": "analyzed-limitation",
   "metadata": {},
   "outputs": [
    {
     "data": {
      "text/plain": [
       "21124"
      ]
     },
     "execution_count": 14,
     "metadata": {},
     "output_type": "execute_result"
    }
   ],
   "source": [
    "sum(map(len, all_words))"
   ]
  },
  {
   "cell_type": "code",
   "execution_count": null,
   "id": "cellular-queen",
   "metadata": {},
   "outputs": [],
   "source": []
  }
 ],
 "metadata": {
  "kernelspec": {
   "display_name": "Python 3",
   "language": "python",
   "name": "python3"
  },
  "language_info": {
   "codemirror_mode": {
    "name": "ipython",
    "version": 3
   },
   "file_extension": ".py",
   "mimetype": "text/x-python",
   "name": "python",
   "nbconvert_exporter": "python",
   "pygments_lexer": "ipython3",
   "version": "3.7.6"
  }
 },
 "nbformat": 4,
 "nbformat_minor": 5
}
