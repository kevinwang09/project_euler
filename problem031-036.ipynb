{
 "cells": [
  {
   "cell_type": "markdown",
   "metadata": {},
   "source": [
    "# Problem 31: Coin sums\n",
    "\n",
    "In the United Kingdom the currency is made up of pound (£) and pence (p). There are eight coins in general circulation:\n",
    "\n",
    "1p, 2p, 5p, 10p, 20p, 50p, £1 (100p), and £2 (200p).\n",
    "It is possible to make £2 in the following way:\n",
    "\n",
    "1×£1 + 1×50p + 2×20p + 1×5p + 1×2p + 3×1p\n",
    "How many different ways can £2 be made using any number of coins?"
   ]
  },
  {
   "cell_type": "markdown",
   "metadata": {},
   "source": [
    "Solution: \n",
    "Suppose we have a target, T, and a set of coins, S. And https://www.xarg.org/puzzle/project-euler/problem-31/ is pretty good with the explaination here. The question is always with respect to some matrix of values that are lower than T. \n",
    "\n",
    "Suppose a matrix (M = M{i,j}) is constructed with rows corresponding to 1, ..., T and columns corresponding to S1, ..., Sk. \n",
    "\n",
    "The patterns of an element M{i,j} in the matrix M can be expressed as: \n",
    "\n",
    "+ If Sj = 1, then M{i,j} = 1. Because if we can only use coins with value of 1, then there is only one solution for any given target value. \n",
    "+ If T < Sj, then the value is the same as M{i, j-1}. i.e. if the coin value is bigger than the target, then we can't use such a coin. So whatever our solution was using previous coins (i.e. coins with smaller values), then those are the only solutions. \n",
    "+ If T == Sj, then we can use our previous solutions (with smaller values) plus one extra solution, which is Sj itself. \n",
    "+ If T > Sj, then our solution is composed of (1), making up the target using coins with values less than Sj and (2) making up the difference, T - Sj using the available coins with values up to Sj. "
   ]
  },
  {
   "cell_type": "code",
   "execution_count": 2,
   "metadata": {},
   "outputs": [],
   "source": [
    "S = [1, 2, 5, 10, 20, 50, 100, 200]\n",
    "T = 200\n",
    "\n",
    "import numpy as np\n",
    "M = np.zeros((T, len(S)))"
   ]
  },
  {
   "cell_type": "code",
   "execution_count": 3,
   "metadata": {},
   "outputs": [],
   "source": [
    "for i in range(M.shape[0]):\n",
    "    for j in range(M.shape[1]):\n",
    "        if j == 0:\n",
    "            M[i, j] = 1\n",
    "        elif (i + 1) < S[j]:\n",
    "            M[i, j] = M[i, j-1]\n",
    "        elif (i + 1) == S[j]:\n",
    "            M[i, j] = M[i, j-1] + 1\n",
    "        else:\n",
    "            M[i, j] = M[i, j-1] + M[i - S[j], j] "
   ]
  },
  {
   "cell_type": "code",
   "execution_count": 4,
   "metadata": {},
   "outputs": [
    {
     "name": "stdout",
     "output_type": "stream",
     "text": [
      "73682.0\n"
     ]
    }
   ],
   "source": [
    "print(M[-1,-1])"
   ]
  },
  {
   "cell_type": "markdown",
   "metadata": {},
   "source": [
    "# Problem 32: Pandigital products\n",
    "\n",
    "We shall say that an n-digit number is pandigital if it makes use of all the digits 1 to n exactly once; for example, the 5-digit number, 15234, is 1 through 5 pandigital.\n",
    "\n",
    "The product 7254 is unusual, as the identity, 39 × 186 = 7254, containing multiplicand, multiplier, and product is 1 through 9 pandigital.\n",
    "\n",
    "Find the sum of all products whose multiplicand/multiplier/product identity can be written as a 1 through 9 pandigital.\n",
    "\n",
    "HINT: Some products can be obtained in more than one way so be sure to only include it once in your sum."
   ]
  },
  {
   "cell_type": "code",
   "execution_count": 5,
   "metadata": {},
   "outputs": [
    {
     "name": "stdout",
     "output_type": "stream",
     "text": [
      "362880\n",
      "['1', '2', '3', '4', '5', '6', '7', '8', '9']\n"
     ]
    }
   ],
   "source": [
    "import itertools\n",
    "l = list(range(1, 10))\n",
    "l = [str(x) for x in l]\n",
    "all_perm = list(itertools.permutations(l))\n",
    "all_perm = [list(x) for x in all_perm]\n",
    "print(len(all_perm))\n",
    "print(all_perm[0])"
   ]
  },
  {
   "cell_type": "code",
   "execution_count": 6,
   "metadata": {},
   "outputs": [],
   "source": [
    "def one_pandigital(x):\n",
    "    result = []\n",
    "    for i in range(10):\n",
    "        for j in range(1, 10):\n",
    "            if i == j or j < i or i + j >= 8:\n",
    "                next\n",
    "            else:\n",
    "                a = int(\"\".join(x[0:i+1]))\n",
    "                b = int(\"\".join(x[i+1:j+1]))\n",
    "                c = int(\"\".join(x[j+1:]))\n",
    "                ab = a*b\n",
    "                if ab == c:\n",
    "                    result.append([a, b, c])\n",
    "    return(result)"
   ]
  },
  {
   "cell_type": "code",
   "execution_count": 7,
   "metadata": {},
   "outputs": [
    {
     "data": {
      "text/plain": [
       "[[39, 186, 7254]]"
      ]
     },
     "execution_count": 7,
     "metadata": {},
     "output_type": "execute_result"
    }
   ],
   "source": [
    "one_pandigital(list(str(391867254)))"
   ]
  },
  {
   "cell_type": "code",
   "execution_count": 8,
   "metadata": {},
   "outputs": [],
   "source": [
    "all_pandigital = [one_pandigital(x) for x in all_perm]"
   ]
  },
  {
   "cell_type": "code",
   "execution_count": 9,
   "metadata": {},
   "outputs": [
    {
     "name": "stdout",
     "output_type": "stream",
     "text": [
      "45228\n"
     ]
    }
   ],
   "source": [
    "all_pandigital_sum = sum(set([x[0][2] for x in all_pandigital if x != []]))\n",
    "print(all_pandigital_sum)"
   ]
  },
  {
   "cell_type": "markdown",
   "metadata": {},
   "source": [
    "# Problem 33: Digit cancelling fraction\n",
    "\n",
    "The fraction 49/98 is a curious fraction, as an inexperienced mathematician in attempting to simplify it may incorrectly believe that 49/98 = 4/8, which is correct, is obtained by cancelling the 9s.\n",
    "\n",
    "We shall consider fractions like, 30/50 = 3/5, to be trivial examples.\n",
    "\n",
    "There are exactly four non-trivial examples of this type of fraction, less than one in value, and containing two digits in the numerator and denominator.\n",
    "\n",
    "If the product of these four fractions is given in its lowest common terms, find the value of the denominator."
   ]
  },
  {
   "cell_type": "markdown",
   "metadata": {},
   "source": [
    "Solution: Using a brute force approach. Searching all integers between 10 and 99 as denominator (excluding all integers that are divisible by 10 (i.e. the trivial cases). "
   ]
  },
  {
   "cell_type": "code",
   "execution_count": 21,
   "metadata": {},
   "outputs": [
    {
     "name": "stdout",
     "output_type": "stream",
     "text": [
      "6\n",
      "['6']\n",
      "['4']\n"
     ]
    }
   ],
   "source": [
    "a = ['6', '6']\n",
    "b = ['6', '4']\n",
    "inter = list((set(a) & set(b)))[0]\n",
    "# inter = []\n",
    "print(inter)\n",
    "a.remove(inter)\n",
    "b.remove(inter)\n",
    "print(a)\n",
    "print(b)"
   ]
  },
  {
   "cell_type": "code",
   "execution_count": 22,
   "metadata": {},
   "outputs": [],
   "source": [
    "deno_num = list(range(10, 100))\n",
    "deno_num = [x for x in deno_num if x % 10 != 0]"
   ]
  },
  {
   "cell_type": "code",
   "execution_count": 23,
   "metadata": {},
   "outputs": [
    {
     "name": "stdout",
     "output_type": "stream",
     "text": [
      "i = 64, j = 16\n",
      "i = 65, j = 26\n",
      "i = 95, j = 19\n",
      "i = 98, j = 49\n"
     ]
    }
   ],
   "source": [
    "for i in deno_num:\n",
    "    nume_num = [x for x in deno_num if x < int(i)]\n",
    "    for j in nume_num:\n",
    "        frac_num = j/i\n",
    "        i_strlist = list(str(i))\n",
    "        j_strlist = list(str(j))\n",
    "        inter = list((set(i_strlist) & set(j_strlist)))\n",
    "        if inter != []:\n",
    "            inter_str = inter[0]\n",
    "            i_strlist_rm = i_strlist;\n",
    "            j_strlist_rm = j_strlist;\n",
    "            i_strlist_rm.remove(inter_str)\n",
    "            j_strlist_rm.remove(inter_str)\n",
    "            frac_rm_num = int(j_strlist_rm[0])/int(i_strlist_rm[0])\n",
    "            if frac_num == frac_rm_num:\n",
    "                print(\"i = \" + str(i) + \", j = \" + str(j))\n",
    "        "
   ]
  },
  {
   "cell_type": "code",
   "execution_count": 38,
   "metadata": {},
   "outputs": [
    {
     "name": "stdout",
     "output_type": "stream",
     "text": [
      "387296\n",
      "38729600\n"
     ]
    }
   ],
   "source": [
    "print(16*26*19*49)\n",
    "print(64*65*95*98)"
   ]
  },
  {
   "cell_type": "markdown",
   "metadata": {},
   "source": [
    "# Problem 34: Digit factorials\n",
    "145 is a curious number, as 1! + 4! + 5! = 1 + 24 + 120 = 145.\n",
    "\n",
    "Find the sum of all numbers which are equal to the sum of the factorial of their digits.\n",
    "\n",
    "Note: As 1! = 1 and 2! = 2 are not sums they are not included."
   ]
  },
  {
   "cell_type": "markdown",
   "metadata": {},
   "source": [
    "Solution: The hard part aabout this problem is to determine an appropriate upper bound. Suppose a number has k digits. The maximum of this number is 10^k - 1. The maximum of the sum of all factorials of the digits is k 9!. Because the nature of the factorial, the second will always be greater than the first term, after a certain choice of k. Once we can find a value for k, then we will find out what is our upper bound for our search. "
   ]
  },
  {
   "cell_type": "code",
   "execution_count": 55,
   "metadata": {},
   "outputs": [
    {
     "data": {
      "text/plain": [
       "-7459841"
      ]
     },
     "execution_count": 55,
     "metadata": {},
     "output_type": "execute_result"
    }
   ],
   "source": [
    "import math\n",
    "k = 7\n",
    "k* math.factorial(9) - 10 ** k - 1"
   ]
  },
  {
   "cell_type": "code",
   "execution_count": 62,
   "metadata": {},
   "outputs": [
    {
     "name": "stdout",
     "output_type": "stream",
     "text": [
      "121\n",
      "145\n"
     ]
    }
   ],
   "source": [
    "def factorial_sum(x: int):\n",
    "    list_factorials_x = int(sum([math.factorial(int(i)) for i in list(str(x))]))\n",
    "    return(list_factorials_x)\n",
    "\n",
    "print(factorial_sum(15))\n",
    "print(factorial_sum(145))"
   ]
  },
  {
   "cell_type": "code",
   "execution_count": 65,
   "metadata": {},
   "outputs": [],
   "source": [
    "list_nums = list(range(10, 10**7 -1))\n",
    "list_result = [x for x in list_nums if x == factorial_sum(x)]"
   ]
  },
  {
   "cell_type": "code",
   "execution_count": 66,
   "metadata": {},
   "outputs": [
    {
     "name": "stdout",
     "output_type": "stream",
     "text": [
      "[145, 40585]\n"
     ]
    }
   ],
   "source": [
    "print(list_result)"
   ]
  },
  {
   "cell_type": "code",
   "execution_count": 68,
   "metadata": {},
   "outputs": [
    {
     "name": "stdout",
     "output_type": "stream",
     "text": [
      "40730\n"
     ]
    }
   ],
   "source": [
    "print(sum(list_result))"
   ]
  },
  {
   "cell_type": "markdown",
   "metadata": {},
   "source": [
    "# Problem 35: Circular primes\n",
    "\n",
    "The number, 197, is called a circular prime because all rotations of the digits: 197, 971, and 719, are themselves prime.\n",
    "\n",
    "There are thirteen such primes below 100: 2, 3, 5, 7, 11, 13, 17, 31, 37, 71, 73, 79, and 97.\n",
    "\n",
    "How many circular primes are there below one million?"
   ]
  },
  {
   "cell_type": "markdown",
   "metadata": {},
   "source": [
    "Solution: The brute force solution is to look into all primes below 1 million. For each of the primes, compute its circular set, and check if all the circular sets are in the computed list of primes. "
   ]
  },
  {
   "cell_type": "code",
   "execution_count": 124,
   "metadata": {},
   "outputs": [],
   "source": [
    "## Primality test function from wikipedia\n",
    "\n",
    "def is_prime(n: int) -> bool:\n",
    "    \"\"\"Primality test using 6k+-1 optimization.\"\"\"\n",
    "    if n <= 3:\n",
    "        return n > 1\n",
    "    if n % 2 == 0 or n % 3 == 0:\n",
    "        return False\n",
    "    i = 5\n",
    "    while i ** 2 <= n:\n",
    "        if n % i == 0 or n % (i + 2) == 0:\n",
    "            return False\n",
    "        i += 6\n",
    "    return True"
   ]
  },
  {
   "cell_type": "code",
   "execution_count": 125,
   "metadata": {},
   "outputs": [],
   "source": [
    "all_primes_below = [x for x in list(range(2, int(1e6))) if is_prime(x)]"
   ]
  },
  {
   "cell_type": "code",
   "execution_count": 126,
   "metadata": {},
   "outputs": [
    {
     "name": "stdout",
     "output_type": "stream",
     "text": [
      "78498\n"
     ]
    }
   ],
   "source": [
    "print(len(all_primes_below))"
   ]
  },
  {
   "cell_type": "code",
   "execution_count": 138,
   "metadata": {},
   "outputs": [],
   "source": [
    "def cyclic_perm(a):\n",
    "    n = len(a)\n",
    "    b = [[a[i - j] for i in range(n)] for j in range(n)]\n",
    "    return b\n",
    "\n",
    "def perm2_int(x_str):\n",
    "    if len(x_str) == 1 and x_str in ['0', '2', '4', '6', '8']:\n",
    "        return(False)\n",
    "    l = list(cyclic_perm(x_str))\n",
    "#     print(l)\n",
    "    ints = [int(\"\".join(list(x))) for x in l]\n",
    "#     print(ints)\n",
    "    perm_are_all_primes = all([x in all_primes_below for x in ints])\n",
    "#     print(perm_are_all_primes)\n",
    "    return(perm_are_all_primes)"
   ]
  },
  {
   "cell_type": "code",
   "execution_count": 139,
   "metadata": {},
   "outputs": [
    {
     "name": "stdout",
     "output_type": "stream",
     "text": [
      "False\n",
      "True\n",
      "True\n",
      "False\n"
     ]
    }
   ],
   "source": [
    "print(perm2_int(['1', '9']))\n",
    "print(perm2_int(['1', '7']))\n",
    "print(perm2_int(['1', '9', '7']))\n",
    "print(perm2_int(['1', '0', '0', '0', '0', '0', '0', '0', '0', '0', '0', '0', '0', '0']))"
   ]
  },
  {
   "cell_type": "code",
   "execution_count": 151,
   "metadata": {},
   "outputs": [
    {
     "name": "stdout",
     "output_type": "stream",
     "text": [
      "[2, 3, 5, 7, 11, 13, 17, 31, 37, 71, 73, 79, 97, 113, 131, 197, 199, 311, 337, 373, 719, 733, 919, 971, 991, 1193, 1931, 3119, 3779, 7793, 7937, 9311, 9377, 11939, 19391, 19937, 37199, 39119, 71993, 91193, 93719, 93911, 99371, 193939, 199933, 319993, 331999, 391939, 393919, 919393, 933199, 939193, 939391, 993319, 999331]\n"
     ]
    }
   ],
   "source": [
    "qualify = [x for x in all_primes_below if perm2_int(list(str(x)))]\n",
    "print(qualify)"
   ]
  },
  {
   "cell_type": "code",
   "execution_count": 152,
   "metadata": {},
   "outputs": [
    {
     "name": "stdout",
     "output_type": "stream",
     "text": [
      "55\n"
     ]
    }
   ],
   "source": [
    "print(len(qualify))"
   ]
  },
  {
   "cell_type": "markdown",
   "metadata": {},
   "source": [
    "# Problem 36: Double-base palindromes\n",
    "The decimal number, 585 = 10010010012 (binary), is palindromic in both bases.\n",
    "\n",
    "Find the sum of all numbers, less than one million, which are palindromic in base 10 and base 2.\n",
    "\n",
    "(Please note that the palindromic number, in either base, may not include leading zeros.)"
   ]
  },
  {
   "cell_type": "markdown",
   "metadata": {},
   "source": [
    "Solution: Brute force solution will be, compute all the palindromes in base 10 and compute the corresponding base 2 equivalent to check if it is palindrome."
   ]
  },
  {
   "cell_type": "code",
   "execution_count": 159,
   "metadata": {},
   "outputs": [
    {
     "name": "stdout",
     "output_type": "stream",
     "text": [
      "[1, 2, 3]\n",
      "[3, 2, 1]\n"
     ]
    },
    {
     "data": {
      "text/plain": [
       "False"
      ]
     },
     "execution_count": 159,
     "metadata": {},
     "output_type": "execute_result"
    }
   ],
   "source": [
    "x = [1,2,3]\n",
    "y = x[::-1]\n",
    "print(x)\n",
    "print(y)"
   ]
  },
  {
   "cell_type": "code",
   "execution_count": 164,
   "metadata": {},
   "outputs": [
    {
     "name": "stdout",
     "output_type": "stream",
     "text": [
      "True\n",
      "False\n",
      "True\n"
     ]
    }
   ],
   "source": [
    "def is_palindrome(x: int):\n",
    "    x_list = list(str(x))\n",
    "    x_list_rev = x_list[::-1]\n",
    "    return(x_list == x_list_rev)\n",
    "\n",
    "print(is_palindrome(1))\n",
    "print(is_palindrome(10))\n",
    "print(is_palindrome(1001))"
   ]
  },
  {
   "cell_type": "code",
   "execution_count": 170,
   "metadata": {},
   "outputs": [
    {
     "name": "stdout",
     "output_type": "stream",
     "text": [
      "1\n",
      "1010\n",
      "1111101001\n",
      "<class 'str'>\n"
     ]
    }
   ],
   "source": [
    "from numpy import binary_repr\n",
    "\n",
    "print(binary_repr(1))\n",
    "print(binary_repr(10))\n",
    "print(binary_repr(1001))\n",
    "print(type(binary_repr(1)))"
   ]
  },
  {
   "cell_type": "code",
   "execution_count": 178,
   "metadata": {},
   "outputs": [],
   "source": [
    "all_palin = [x for x in list(range(2, int(1e6 + 1))) if is_palindrome(x) and is_palindrome(binary_repr(int(x)))]"
   ]
  },
  {
   "cell_type": "code",
   "execution_count": 179,
   "metadata": {},
   "outputs": [
    {
     "name": "stdout",
     "output_type": "stream",
     "text": [
      "[3, 5, 7, 9, 33, 99, 313, 585, 717, 7447, 9009, 15351, 32223, 39993, 53235, 53835, 73737, 585585]\n",
      "872186\n"
     ]
    }
   ],
   "source": [
    "print(all_palin)\n",
    "print(sum(all_palin))"
   ]
  },
  {
   "cell_type": "code",
   "execution_count": 180,
   "metadata": {},
   "outputs": [
    {
     "data": {
      "text/plain": [
       "['11',\n",
       " '101',\n",
       " '111',\n",
       " '1001',\n",
       " '100001',\n",
       " '1100011',\n",
       " '100111001',\n",
       " '1001001001',\n",
       " '1011001101',\n",
       " '1110100010111',\n",
       " '10001100110001',\n",
       " '11101111110111',\n",
       " '111110111011111',\n",
       " '1001110000111001',\n",
       " '1100111111110011',\n",
       " '1101001001001011',\n",
       " '10010000000001001',\n",
       " '10001110111101110001']"
      ]
     },
     "execution_count": 180,
     "metadata": {},
     "output_type": "execute_result"
    }
   ],
   "source": [
    "[binary_repr(x) for x in all_palin]"
   ]
  },
  {
   "cell_type": "code",
   "execution_count": null,
   "metadata": {},
   "outputs": [],
   "source": []
  }
 ],
 "metadata": {
  "kernelspec": {
   "display_name": "Python 3",
   "language": "python",
   "name": "python3"
  },
  "language_info": {
   "codemirror_mode": {
    "name": "ipython",
    "version": 3
   },
   "file_extension": ".py",
   "mimetype": "text/x-python",
   "name": "python",
   "nbconvert_exporter": "python",
   "pygments_lexer": "ipython3",
   "version": "3.8.5"
  }
 },
 "nbformat": 4,
 "nbformat_minor": 4
}
