{
 "cells": [
  {
   "cell_type": "markdown",
   "metadata": {},
   "source": [
    "# Problem 31: Coin sums\n",
    "\n",
    "In the United Kingdom the currency is made up of pound (£) and pence (p). There are eight coins in general circulation:\n",
    "\n",
    "1p, 2p, 5p, 10p, 20p, 50p, £1 (100p), and £2 (200p).\n",
    "It is possible to make £2 in the following way:\n",
    "\n",
    "1×£1 + 1×50p + 2×20p + 1×5p + 1×2p + 3×1p\n",
    "How many different ways can £2 be made using any number of coins?"
   ]
  },
  {
   "cell_type": "markdown",
   "metadata": {},
   "source": [
    "Solution: \n",
    "Suppose we have a target, T, and a set of coins, S. And https://www.xarg.org/puzzle/project-euler/problem-31/ is pretty good with the explaination here. The question is always with respect to some matrix of values that are lower than T. \n",
    "\n",
    "Suppose a matrix (M = M{i,j}) is constructed with rows corresponding to 1, ..., T and columns corresponding to S1, ..., Sk. \n",
    "\n",
    "The patterns of an element M{i,j} in the matrix M can be expressed as: \n",
    "\n",
    "+ If T < Sj, then the value is the same as M{i, j-1}. i.e. if the coin value is bigger than the target, then we can't use such a coin. \n",
    "+ If T > Sj, compute T - Sj, and look up the matrix to know how many ways we have to make up T-Sj. "
   ]
  },
  {
   "cell_type": "code",
   "execution_count": 219,
   "metadata": {},
   "outputs": [],
   "source": [
    "S = [1, 2, 5, 10, 20, 50, 100, 200]\n",
    "T = 200\n",
    "\n",
    "import numpy as np\n",
    "M = np.zeros((T, len(S)))"
   ]
  },
  {
   "cell_type": "code",
   "execution_count": 220,
   "metadata": {},
   "outputs": [],
   "source": [
    "for i in range(M.shape[0]):\n",
    "    for j in range(M.shape[1]):\n",
    "        if j == 0:\n",
    "            M[i, j] = 1\n",
    "        elif (i + 1) < S[j]:\n",
    "            M[i, j] = M[i, j-1]\n",
    "        elif (i + 1) == S[j]:\n",
    "            M[i, j] = M[i, j-1] + 1\n",
    "        else:\n",
    "            M[i, j] = M[i, j-1] + M[i - S[j], j] "
   ]
  },
  {
   "cell_type": "code",
   "execution_count": 222,
   "metadata": {},
   "outputs": [
    {
     "name": "stdout",
     "output_type": "stream",
     "text": [
      "73682.0\n"
     ]
    }
   ],
   "source": [
    "print(M[-1, -1])"
   ]
  },
  {
   "cell_type": "code",
   "execution_count": null,
   "metadata": {},
   "outputs": [],
   "source": [
    "\n",
    "\n"
   ]
  }
 ],
 "metadata": {
  "kernelspec": {
   "display_name": "Python 3",
   "language": "python",
   "name": "python3"
  },
  "language_info": {
   "codemirror_mode": {
    "name": "ipython",
    "version": 3
   },
   "file_extension": ".py",
   "mimetype": "text/x-python",
   "name": "python",
   "nbconvert_exporter": "python",
   "pygments_lexer": "ipython3",
   "version": "3.8.5"
  }
 },
 "nbformat": 4,
 "nbformat_minor": 4
}
