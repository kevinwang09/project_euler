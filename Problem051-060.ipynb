{
 "cells": [
  {
   "cell_type": "markdown",
   "metadata": {},
   "source": [
    "# Problem 51: Prime digit replacement\n",
    "\n",
    "By replacing the 1st digit of the 2-digit number *3, it turns out that six of the nine possible values: 13, 23, 43, 53, 73, and 83, are all prime.\n",
    "\n",
    "By replacing the 3rd and 4th digits of 56**3 with the same digit, this 5-digit number is the first example having seven primes among the ten generated numbers, yielding the family: 56003, 56113, 56333, 56443, 56663, 56773, and 56993. Consequently 56003, being the first member of this family, is the smallest prime with this property.\n",
    "\n",
    "Find the smallest prime which, by replacing part of the number (not necessarily adjacent digits) with the same digit, is part of an eight prime value family."
   ]
  },
  {
   "cell_type": "markdown",
   "metadata": {},
   "source": [
    "Solution: Might take anothe brute force solution here. But there are clever ways to reduce the computations. \n",
    "\n",
    "Here are some simple observations regardless of the number of digits in n:\n",
    "1. n must end in either 1, 3, 7, 9 because it must be a prime. \n",
    "2. Because n must be the smallest in the 8-family, thus, the repeating digit must be either 0, 1 or 2. Assuming the best case scenario that all of 3, 4, ..., 9 all yield primes. \n",
    "3. The last digit can't be a part of the repeating digits, because if it is, then one of the 8-family must have an even number as the last digit and thus cannot be prime. \n",
    "\n",
    "Now we consider the digit sum mod 3 to test on the number n's divisibility. Between 0 and 9, there are four numbers gives 0 modulo 3 (0, 3, 6, 9), three gives 1 (1, 4, 7) and three gives 2 (2, 5, 8) . \n",
    "\n",
    "If there are only two repeating digits, then we can express the digit sum of n as 2r + k, where r is the repeating digit and k is the digit sum of the non-repeating digits. Now, 2r + k must not be 0 modulo 3. Because then this digit sum will be divisible by 3, and n will be divisible by 3. So 2r + k must be 1 or 2 modulo 3. Suppose 2r + k is 1 modulo 3, we then examine the 10-family of (2r + k, 2(r + 1 mod 10) + k, 2(r + 2 mod 10) + k, ..., , 2(r + 9 mod 10) + k) to pick out a eight family that satisfy the requested condition, or, an equivalent way to think about this to say which two of the 10-family can be eliminated. The number 2(r + 1 mod 10) + k is clearly divisible by 3 because 2(r + 0 mod 10) + k is 1 modulo 3. Even if this number is not a part of the 8 family, 2(r + 4 mod 10) + k and 2(r + 7 mod 10) + k are all divisible by 3. Because we can only eliminate two numbers from this 10-family, and then we found three numbers, we can conclude that 2r + k cannot be 1 modulo 3. \n",
    "\n",
    "The same reasoning means that 2r + k cannot be 2 modulo 3. \n",
    "\n",
    "Which means we cannot have two repeating digits in n. Similar argument also shows we cannot have four repeating digits. \n",
    "\n",
    "However, note that we can have three repeating digits. Because 3r + k = k modulo 3. i.e. the digit sum will be purely determined by the non-repeating digit sum."
   ]
  },
  {
   "cell_type": "code",
   "execution_count": 13,
   "metadata": {},
   "outputs": [],
   "source": [
    "from source import *"
   ]
  },
  {
   "cell_type": "code",
   "execution_count": null,
   "metadata": {},
   "outputs": [],
   "source": [
    "import itertools"
   ]
  },
  {
   "cell_type": "code",
   "execution_count": null,
   "metadata": {},
   "outputs": [],
   "source": [
    "digits = list(map(str, list(range(10))))\n",
    "print(digits)"
   ]
  },
  {
   "cell_type": "code",
   "execution_count": null,
   "metadata": {},
   "outputs": [],
   "source": [
    "def replace_2digits(n_str: list, this_comb: tuple, this_digit: str):\n",
    "    n_str_modified = n_str[:]\n",
    "    n_str_modified[this_comb[0]] = this_digit\n",
    "    n_str_modified[this_comb[1]] = this_digit\n",
    "    n_modified = int(\"\".join(n_str_modified))\n",
    "    return(n_modified)"
   ]
  },
  {
   "cell_type": "code",
   "execution_count": null,
   "metadata": {},
   "outputs": [],
   "source": [
    "n_str = list(str(56003))\n",
    "sum0 = sum([x == '0' for x in n_str])\n",
    "print(sum0)"
   ]
  },
  {
   "cell_type": "code",
   "execution_count": null,
   "metadata": {},
   "outputs": [],
   "source": [
    "n = 56003\n",
    "\n",
    "def family_seven(n):\n",
    "    n_str = list(str(n))\n",
    "#     repeats = len(n_str) != len(set(n_str))\n",
    "    sum0 = sum([x == '0' for x in n_str]) >= 2\n",
    "    sum1 = sum([x == '1' for x in n_str]) >= 2\n",
    "    sum2 = sum([x == '2' for x in n_str]) >= 2\n",
    "    sum3 = sum([x == '3' for x in n_str]) >= 2\n",
    "\n",
    "    if is_prime(n) and (sum0 or sum1 or sum2 or sum3):\n",
    "        choose2 = list(itertools.combinations(range(len(n_str)), 2))\n",
    "        for this_comb in choose2:\n",
    "            n_modified_list = [replace_2digits(n_str = n_str, this_comb = this_comb, this_digit = this_digit) for this_digit in digits]\n",
    "            num_primes_n_modified_list = len([x for x in n_modified_list if is_prime(x)])\n",
    "            if num_primes_n_modified_list >= 7:\n",
    "                print(\"Seven family found, breaking:\")\n",
    "                return(sorted(n_modified_list))\n",
    "#                 return(True)\n",
    "                break"
   ]
  },
  {
   "cell_type": "code",
   "execution_count": null,
   "metadata": {},
   "outputs": [],
   "source": [
    "print(family_seven(n = 56003))\n",
    "print(family_seven(n = 12345))"
   ]
  },
  {
   "cell_type": "code",
   "execution_count": null,
   "metadata": {},
   "outputs": [],
   "source": [
    "print(family_seven(n = 12345) == None)"
   ]
  },
  {
   "cell_type": "code",
   "execution_count": null,
   "metadata": {},
   "outputs": [],
   "source": [
    "flag = True\n",
    "n = 10000\n",
    "\n",
    "while flag:\n",
    "    fs_result = family_seven(n)\n",
    "    if fs_result != None:\n",
    "        flag = False\n",
    "        print(fs_result)\n",
    "        break\n",
    "    n = n + 1"
   ]
  },
  {
   "cell_type": "markdown",
   "metadata": {},
   "source": [
    "## Real solution with family of 8"
   ]
  },
  {
   "cell_type": "code",
   "execution_count": null,
   "metadata": {},
   "outputs": [],
   "source": [
    "def replace_3digits(n_str: list, this_comb: tuple, this_digit: str):\n",
    "    n_str_modified = n_str[:]\n",
    "    n_str_modified[this_comb[0]] = this_digit\n",
    "    n_str_modified[this_comb[1]] = this_digit\n",
    "    n_str_modified[this_comb[2]] = this_digit\n",
    "    n_modified = int(\"\".join(n_str_modified))\n",
    "    return(n_modified)"
   ]
  },
  {
   "cell_type": "code",
   "execution_count": null,
   "metadata": {},
   "outputs": [],
   "source": [
    "def family_eight(n):\n",
    "    n_str = list(str(n))\n",
    "    sum0 = sum([x == '0' for x in n_str]) >= 3\n",
    "    sum1 = sum([x == '1' for x in n_str]) >= 3\n",
    "    sum2 = sum([x == '2' for x in n_str]) >= 3\n",
    "\n",
    "    if is_prime(n) and (sum0 or sum1 or sum2) and n_str[-1] in ['1', '3', '7', '9']:\n",
    "        choose3 = list(itertools.combinations(range(len(n_str) - 1), 3))\n",
    "        for this_comb in choose3:\n",
    "            n_modified_list = [replace_3digits(n_str = n_str, this_comb = this_comb, this_digit = this_digit) for this_digit in digits]\n",
    "            n_modified_list_primes = [x for x in n_modified_list if is_prime(x)]\n",
    "            n_modified_list_primes_len = len(n_modified_list_primes)\n",
    "            if n_modified_list_primes_len >= 8 and min(n_modified_list_primes) >= 1e5:\n",
    "                print(\"Eight family found, breaking:\")\n",
    "                return(sorted(n_modified_list_primes))\n",
    "                break"
   ]
  },
  {
   "cell_type": "code",
   "execution_count": null,
   "metadata": {},
   "outputs": [],
   "source": [
    "flag = True\n",
    "n = 100000\n",
    "\n",
    "while flag and n <1e6:\n",
    "    fe_result = family_eight(n)\n",
    "    if fe_result != None:\n",
    "        flag = False\n",
    "        print(fe_result)\n",
    "        break\n",
    "    n = n + 1\n",
    "    if n % 100000 == 0:\n",
    "        print(str(n) + \"...\")"
   ]
  },
  {
   "cell_type": "markdown",
   "metadata": {},
   "source": [
    "# Problem 52: Permuted mutliples\n",
    "It can be seen that the number, 125874, and its double, 251748, contain exactly the same digits, but in a different order.\n",
    "\n",
    "Find the smallest positive integer, x, such that 2x, 3x, 4x, 5x, and 6x, contain the same digits."
   ]
  },
  {
   "cell_type": "code",
   "execution_count": null,
   "metadata": {},
   "outputs": [],
   "source": [
    "from collections import Counter\n",
    "\n",
    "def compare_lists(list1, list2): \n",
    "    return Counter(list1) == Counter(list2)"
   ]
  },
  {
   "cell_type": "code",
   "execution_count": null,
   "metadata": {},
   "outputs": [],
   "source": [
    "print(compare_lists(['1', '2', '4'], ['2', '4', '1']))\n",
    "print(compare_lists(['1', '2', '4'], ['2', '4', '1', '1']))\n",
    "print(compare_lists(['123'], ['321']))"
   ]
  },
  {
   "cell_type": "code",
   "execution_count": null,
   "metadata": {},
   "outputs": [],
   "source": [
    "flag = True\n",
    "n = 1\n",
    "\n",
    "while flag:\n",
    "    mutliples_n = [2*n, 3*n, 4*n, 5*n, 6*n]\n",
    "    multiples_n_str = [list(str(x)) for x in mutliples_n]\n",
    "    check = [compare_lists(x, list(str(n))) for x in multiples_n_str]\n",
    "    if all(check):\n",
    "        print(n)\n",
    "        flag = False\n",
    "        break\n",
    "    n = n + 1"
   ]
  },
  {
   "cell_type": "markdown",
   "metadata": {},
   "source": [
    "# Problem 53: Combinatoric selections\n",
    "\n",
    "How many nCr values are greater than 1 million, with n bounded between 1 and 100 and r bounded between 0 and n. "
   ]
  },
  {
   "cell_type": "code",
   "execution_count": null,
   "metadata": {},
   "outputs": [],
   "source": [
    "import math"
   ]
  },
  {
   "cell_type": "code",
   "execution_count": null,
   "metadata": {},
   "outputs": [],
   "source": [
    "math.comb(10, 5)"
   ]
  },
  {
   "cell_type": "code",
   "execution_count": null,
   "metadata": {},
   "outputs": [],
   "source": [
    "counter = 0\n",
    "for n in range(1, 101):\n",
    "    coef = [math.comb(n, x) for x in range(0, n + 1)]\n",
    "    counter = counter + sum([x >= 1e6 for x in coef])\n",
    "print(counter)"
   ]
  },
  {
   "cell_type": "markdown",
   "metadata": {},
   "source": [
    "# Problem 54: Lychrel numbers\n",
    "\n",
    "If we take 47, reverse and add, 47 + 74 = 121, which is palindromic.\n",
    "\n",
    "Not all numbers produce palindromes so quickly. For example,\n",
    "\n",
    "349 + 943 = 1292,\n",
    "1292 + 2921 = 4213\n",
    "4213 + 3124 = 7337\n",
    "\n",
    "That is, 349 took three iterations to arrive at a palindrome.\n",
    "\n",
    "Although no one has proved it yet, it is thought that some numbers, like 196, never produce a palindrome. A number that never forms a palindrome through the reverse and add process is called a Lychrel number. Due to the theoretical nature of these numbers, and for the purpose of this problem, we shall assume that a number is Lychrel until proven otherwise. In addition you are given that for every number below ten-thousand, it will either (i) become a palindrome in less than fifty iterations, or, (ii) no one, with all the computing power that exists, has managed so far to map it to a palindrome. In fact, 10677 is the first number to be shown to require over fifty iterations before producing a palindrome: 4668731596684224866951378664 (53 iterations, 28-digits).\n",
    "\n",
    "Surprisingly, there are palindromic numbers that are themselves Lychrel numbers; the first example is 4994.\n",
    "\n",
    "How many Lychrel numbers are there below ten-thousand?\n",
    "\n",
    "NOTE: Wording was modified slightly on 24 April 2007 to emphasise the theoretical nature of Lychrel numbers."
   ]
  },
  {
   "cell_type": "code",
   "execution_count": null,
   "metadata": {},
   "outputs": [],
   "source": [
    "def is_palindrome(n: int):\n",
    "    n_str = str(n)\n",
    "    return(n_str == n_str[::-1])\n",
    "\n",
    "print(is_palindrome(n = 101))\n",
    "print(is_palindrome(n = 1021))"
   ]
  },
  {
   "cell_type": "code",
   "execution_count": null,
   "metadata": {},
   "outputs": [],
   "source": [
    "def is_lychrel(n: int, max_iter = int(50)):\n",
    "    original = n\n",
    "    \n",
    "    for iter in range(max_iter):\n",
    "        n_str = str(n)\n",
    "        n_rev_int = int(n_str[::-1])\n",
    "        if is_palindrome(n + n_rev_int):\n",
    "            return False\n",
    "        else:\n",
    "            n = n + n_rev_int\n",
    "        \n",
    "    if iter == max_iter - 1:\n",
    "        return True\n",
    "    \n",
    "print(is_lychrel(47))\n",
    "print(is_lychrel(349))\n",
    "print(is_lychrel(10677))\n",
    "print(is_lychrel(10677, max_iter = 100))\n",
    "print(is_lychrel(196))\n",
    "print(is_lychrel(4994))"
   ]
  },
  {
   "cell_type": "code",
   "execution_count": null,
   "metadata": {},
   "outputs": [],
   "source": [
    "list_lychrel = [x for x in range(10, 10000) if is_lychrel(x, max_iter = 50)]"
   ]
  },
  {
   "cell_type": "code",
   "execution_count": null,
   "metadata": {},
   "outputs": [],
   "source": [
    "print(list_lychrel[110:120])\n",
    "print(len(list_lychrel))"
   ]
  },
  {
   "cell_type": "code",
   "execution_count": null,
   "metadata": {},
   "outputs": [],
   "source": [
    "def digit_sum(n: int):\n",
    "    n_str = str(int(n))\n",
    "    n_str_sum = sum(map(int, n_str))\n",
    "    return(n_str_sum)"
   ]
  },
  {
   "cell_type": "code",
   "execution_count": null,
   "metadata": {},
   "outputs": [],
   "source": [
    "max_result = 0\n",
    "for a in range(1, 100):\n",
    "    a_to_b = [digit_sum(a ** b) for b in range(1, 100)]\n",
    "    if max(a_to_b) >= max_result:\n",
    "        max_result = max(a_to_b)\n",
    "        \n",
    "print(max_result)"
   ]
  },
  {
   "cell_type": "markdown",
   "metadata": {},
   "source": [
    "# Problem 57: Square root convergents\n",
    "\n",
    "In the first one-thousand expansions of sqrt(2), how many fractions contain a numerator with more digits than the denominator?"
   ]
  },
  {
   "cell_type": "code",
   "execution_count": null,
   "metadata": {},
   "outputs": [],
   "source": [
    "num = 3\n",
    "dem = 2\n",
    "num = num - dem\n",
    "\n",
    "num = 2*dem + num\n",
    "tmp = num\n",
    "num = dem\n",
    "dem = tmp\n",
    "num = num + dem\n",
    "\n",
    "print(num)\n",
    "print(dem)"
   ]
  },
  {
   "cell_type": "code",
   "execution_count": null,
   "metadata": {},
   "outputs": [],
   "source": [
    "counter = 0\n",
    "num = 3\n",
    "dem = 2\n",
    "for i in range(1000):\n",
    "    num = num - dem\n",
    "    num = 2*dem + num\n",
    "    tmp = num\n",
    "    num = dem\n",
    "    dem = tmp\n",
    "    num = num + dem\n",
    "    if(len(str(num)) > len(str(dem))):\n",
    "        counter = counter + 1"
   ]
  },
  {
   "cell_type": "code",
   "execution_count": null,
   "metadata": {},
   "outputs": [],
   "source": [
    "print(counter)"
   ]
  },
  {
   "cell_type": "markdown",
   "metadata": {},
   "source": [
    "# Problem 58: Spiral primes\n",
    "\n",
    "tarting with 1 and spiralling anticlockwise in the following way, a square spiral with side length 7 is formed.\n",
    "\n",
    "37 36 35 34 33 32 31\n",
    "38 17 16 15 14 13 30\n",
    "39 18  5  4  3 12 29\n",
    "40 19  6  1  2 11 28\n",
    "41 20  7  8  9 10 27\n",
    "42 21 22 23 24 25 26\n",
    "43 44 45 46 47 48 49\n",
    "\n",
    "It is interesting to note that the odd squares lie along the bottom right diagonal, but what is more interesting is that 8 out of the 13 numbers lying along both diagonals are prime; that is, a ratio of 8/13 ≈ 62%.\n",
    "\n",
    "If one complete new layer is wrapped around the spiral above, a square spiral with side length 9 will be formed. If this process is continued, what is the side length of the square spiral for which the ratio of primes along both diagonals first falls below 10%?"
   ]
  },
  {
   "cell_type": "markdown",
   "metadata": {},
   "source": [
    "Solution: Note that we will use n to denote the side length of the square. And we will generate numbers along the diagonals to check the primality."
   ]
  },
  {
   "cell_type": "code",
   "execution_count": 21,
   "metadata": {},
   "outputs": [],
   "source": [
    "def bottom_left(n: int):\n",
    "    return(n ** 2 - (n-1))\n",
    "\n",
    "def top_left(n: int):\n",
    "    return(bottom_left(n) - (n-1))\n",
    "\n",
    "def top_right(n: int):\n",
    "    return(top_left(n) - (n-1))\n",
    "\n",
    "def diag_len(n: int):\n",
    "    return(2*n - 1)"
   ]
  },
  {
   "cell_type": "code",
   "execution_count": 24,
   "metadata": {},
   "outputs": [
    {
     "name": "stdout",
     "output_type": "stream",
     "text": [
      "26241\n"
     ]
    }
   ],
   "source": [
    "counter = 0\n",
    "n = 3\n",
    "ratio = 1\n",
    "\n",
    "while ratio > 0.1:\n",
    "    counter = counter + is_prime(bottom_left(n)) + is_prime(top_left(n)) + is_prime(top_right(n))\n",
    "    ratio = counter/diag_len(n)\n",
    "#     print([n, counter, diag_len(n), ratio])\n",
    "    n = n + 2\n",
    "    \n",
    "print(n - 2)"
   ]
  },
  {
   "cell_type": "markdown",
   "metadata": {},
   "source": [
    "# Problem 60: Prime pair test\n",
    "\n",
    "The primes 3, 7, 109, and 673, are quite remarkable. By taking any two primes and concatenating them in any order the result will always be prime. For example, taking 7 and 109, both 7109 and 1097 are prime. The sum of these four primes, 792, represents the lowest sum for a set of four primes with this property.\n",
    "\n",
    "Find the lowest sum for a set of five primes for which any two primes concatenate to produce another prime."
   ]
  },
  {
   "cell_type": "code",
   "execution_count": 2,
   "metadata": {},
   "outputs": [],
   "source": [
    "a = 3\n",
    "b = 7\n",
    "c = 109\n",
    "d = 673\n",
    "\n",
    "x = [a, b, c, d]"
   ]
  },
  {
   "cell_type": "code",
   "execution_count": 3,
   "metadata": {},
   "outputs": [
    {
     "name": "stdout",
     "output_type": "stream",
     "text": [
      "[(0, 1), (0, 2), (0, 3), (1, 0), (1, 2), (1, 3), (2, 0), (2, 1), (2, 3), (3, 0), (3, 1), (3, 2)]\n",
      "[37, 3109, 3673, 73, 7109, 7673, 1093, 1097, 109673, 6733, 6737, 673109]\n",
      "True\n"
     ]
    }
   ],
   "source": [
    "import itertools\n",
    "fourchoosetwo = list(itertools.permutations(range(0, 4), 2))\n",
    "print(fourchoosetwo)\n",
    "\n",
    "four_iters = [int(\"\".join([str(x[i[0]]), str(x[i[1]])])) for i in fourchoosetwo]\n",
    "print(four_iters)\n",
    "\n",
    "four_iters_primality = all([is_prime(i) for i in four_iters])\n",
    "\n",
    "print(four_iters_primality)"
   ]
  },
  {
   "cell_type": "code",
   "execution_count": 4,
   "metadata": {},
   "outputs": [
    {
     "name": "stdout",
     "output_type": "stream",
     "text": [
      "[3, 5, 7, 11, 13, 17, 19, 23, 29, 31]\n"
     ]
    }
   ],
   "source": [
    "some_primes = [i for i in range(3, 1000, 2) if is_prime(i)]\n",
    "print(some_primes[:10])"
   ]
  },
  {
   "cell_type": "code",
   "execution_count": 5,
   "metadata": {},
   "outputs": [
    {
     "name": "stdout",
     "output_type": "stream",
     "text": [
      "[3, 7, 109, 673]\n"
     ]
    }
   ],
   "source": [
    "for a in some_primes:\n",
    "    for b in [i for i in some_primes if i >= a]:\n",
    "        for c in [i for i in some_primes if i >= b]: \n",
    "            for d in [i for i in some_primes if i >= c]: \n",
    "                x = [a, b, c, d]\n",
    "                x_str = list(map(str, x))\n",
    "                four_iters = [int(\"\".join([x_str[i[0]], x_str[i[1]]])) for i in fourchoosetwo]\n",
    "                four_iters_primality = all([is_prime(i) for i in four_iters])\n",
    "                if four_iters_primality:\n",
    "                    print(x)\n",
    "                    break\n",
    "            else: \n",
    "                continue\n",
    "            break\n",
    "        else: \n",
    "            continue\n",
    "        break\n",
    "    else: \n",
    "        continue\n",
    "    break"
   ]
  },
  {
   "cell_type": "code",
   "execution_count": 14,
   "metadata": {},
   "outputs": [],
   "source": [
    "some_primes = [i for i in range(3, 10000, 2) if is_prime(i)]"
   ]
  },
  {
   "cell_type": "code",
   "execution_count": 15,
   "metadata": {},
   "outputs": [],
   "source": [
    "def check_primality_iter(x: list):\n",
    "    x_str = list(map(str, x))\n",
    "    last = x_str[-1]\n",
    "    rest = x_str[:-1]\n",
    "    choose1 = [i + last for i in rest]\n",
    "    choose2 = [last + i for i in rest]\n",
    "    choose = choose1 + choose2\n",
    "    choose_int = list(map(int, choose))\n",
    "    choose_int_primality = all([is_prime(i) for i in choose_int])\n",
    "    return(choose_int_primality)"
   ]
  },
  {
   "cell_type": "code",
   "execution_count": 16,
   "metadata": {},
   "outputs": [
    {
     "data": {
      "text/plain": [
       "True"
      ]
     },
     "execution_count": 16,
     "metadata": {},
     "output_type": "execute_result"
    }
   ],
   "source": [
    "x = [3, 7, 109]\n",
    "check_primality_iter(x)"
   ]
  },
  {
   "cell_type": "code",
   "execution_count": null,
   "metadata": {},
   "outputs": [],
   "source": [
    "for a in some_primes:\n",
    "    for b in [i for i in some_primes if i >= a]:\n",
    "        x = [a, b]\n",
    "        if check_primality_iter(x):\n",
    "            for c in [i for i in some_primes if i >= b]: \n",
    "                x = [a, b, c]\n",
    "                if check_primality_iter(x):\n",
    "                    for d in [i for i in some_primes if i >= c]: \n",
    "                        x = [a, b, c, d]\n",
    "                        if check_primality_iter(x):\n",
    "                            for e in [i for i in some_primes if i >= d]:\n",
    "                                x = [a, b, c, d, e]\n",
    "                                if check_primality_iter(x):\n",
    "                                    print(x)\n",
    "                                    break\n",
    "                            else:\n",
    "                                continue\n",
    "                            break\n",
    "                    else:\n",
    "                        continue\n",
    "                    break\n",
    "            else: \n",
    "                continue\n",
    "            break\n",
    "    else:\n",
    "        continue\n",
    "    break"
   ]
  },
  {
   "cell_type": "code",
   "execution_count": 18,
   "metadata": {},
   "outputs": [
    {
     "data": {
      "text/plain": [
       "26033"
      ]
     },
     "execution_count": 18,
     "metadata": {},
     "output_type": "execute_result"
    }
   ],
   "source": [
    "sum([13, 5197, 5701, 6733, 8389])"
   ]
  },
  {
   "cell_type": "code",
   "execution_count": null,
   "metadata": {},
   "outputs": [],
   "source": []
  }
 ],
 "metadata": {
  "kernelspec": {
   "display_name": "Python 3",
   "language": "python",
   "name": "python3"
  },
  "language_info": {
   "codemirror_mode": {
    "name": "ipython",
    "version": 3
   },
   "file_extension": ".py",
   "mimetype": "text/x-python",
   "name": "python",
   "nbconvert_exporter": "python",
   "pygments_lexer": "ipython3",
   "version": "3.7.3"
  }
 },
 "nbformat": 4,
 "nbformat_minor": 4
}
