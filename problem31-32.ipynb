{
 "cells": [
  {
   "cell_type": "markdown",
   "metadata": {},
   "source": [
    "# Problem 31: Coin sums\n",
    "\n",
    "In the United Kingdom the currency is made up of pound (£) and pence (p). There are eight coins in general circulation:\n",
    "\n",
    "1p, 2p, 5p, 10p, 20p, 50p, £1 (100p), and £2 (200p).\n",
    "It is possible to make £2 in the following way:\n",
    "\n",
    "1×£1 + 1×50p + 2×20p + 1×5p + 1×2p + 3×1p\n",
    "How many different ways can £2 be made using any number of coins?"
   ]
  },
  {
   "cell_type": "markdown",
   "metadata": {},
   "source": [
    "Solution: \n",
    "Suppose we have a target, T, and a set of coins, S. And https://www.xarg.org/puzzle/project-euler/problem-31/ is pretty good with the explaination here. The question is always with respect to some matrix of values that are lower than T. \n",
    "\n",
    "Suppose a matrix (M = M{i,j}) is constructed with rows corresponding to 1, ..., T and columns corresponding to S1, ..., Sk. \n",
    "\n",
    "The patterns of an element M{i,j} in the matrix M can be expressed as: \n",
    "\n",
    "+ If Sj = 1, then M{i,j} = 1. Because if we can only use coins with value of 1, then there is only one solution for any given target value. \n",
    "+ If T < Sj, then the value is the same as M{i, j-1}. i.e. if the coin value is bigger than the target, then we can't use such a coin. So whatever our solution was using previous coins (i.e. coins with smaller values), then those are the only solutions. \n",
    "+ If T == Sj, then we can use our previous solutions (with smaller values) plus one extra solution, which is Sj itself. \n",
    "+ If T > Sj, then our solution is composed of (1), making up the target using coins with values less than Sj and (2) making up the difference, T - Sj using the available coins with values up to Sj. "
   ]
  },
  {
   "cell_type": "code",
   "execution_count": 1,
   "metadata": {},
   "outputs": [],
   "source": [
    "S = [1, 2, 5, 10, 20, 50, 100, 200]\n",
    "T = 200\n",
    "\n",
    "import numpy as np\n",
    "M = np.zeros((T, len(S)))"
   ]
  },
  {
   "cell_type": "code",
   "execution_count": 2,
   "metadata": {},
   "outputs": [],
   "source": [
    "for i in range(M.shape[0]):\n",
    "    for j in range(M.shape[1]):\n",
    "        if j == 0:\n",
    "            M[i, j] = 1\n",
    "        elif (i + 1) < S[j]:\n",
    "            M[i, j] = M[i, j-1]\n",
    "        elif (i + 1) == S[j]:\n",
    "            M[i, j] = M[i, j-1] + 1\n",
    "        else:\n",
    "            M[i, j] = M[i, j-1] + M[i - S[j], j] "
   ]
  },
  {
   "cell_type": "code",
   "execution_count": 3,
   "metadata": {},
   "outputs": [
    {
     "name": "stdout",
     "output_type": "stream",
     "text": [
      "73682.0\n"
     ]
    }
   ],
   "source": [
    "print(M[-1,-1])"
   ]
  },
  {
   "cell_type": "markdown",
   "metadata": {},
   "source": [
    "# Problem 32: Pandigital products\n",
    "\n",
    "We shall say that an n-digit number is pandigital if it makes use of all the digits 1 to n exactly once; for example, the 5-digit number, 15234, is 1 through 5 pandigital.\n",
    "\n",
    "The product 7254 is unusual, as the identity, 39 × 186 = 7254, containing multiplicand, multiplier, and product is 1 through 9 pandigital.\n",
    "\n",
    "Find the sum of all products whose multiplicand/multiplier/product identity can be written as a 1 through 9 pandigital.\n",
    "\n",
    "HINT: Some products can be obtained in more than one way so be sure to only include it once in your sum."
   ]
  },
  {
   "cell_type": "code",
   "execution_count": 30,
   "metadata": {},
   "outputs": [
    {
     "name": "stdout",
     "output_type": "stream",
     "text": [
      "362880\n",
      "['1', '2', '3', '4', '5', '6', '7', '8', '9']\n"
     ]
    }
   ],
   "source": [
    "import itertools\n",
    "l = list(range(1, 10))\n",
    "l = [str(x) for x in l]\n",
    "all_perm = list(itertools.permutations(l))\n",
    "all_perm = [list(x) for x in all_perm]\n",
    "print(len(all_perm))\n",
    "print(all_perm[0])"
   ]
  },
  {
   "cell_type": "code",
   "execution_count": 63,
   "metadata": {},
   "outputs": [],
   "source": [
    "def one_pandigital(x):\n",
    "    result = []\n",
    "    for i in range(10):\n",
    "        for j in range(1, 10):\n",
    "            if i == j or j < i or i + j >= 8:\n",
    "                next\n",
    "            else:\n",
    "                a = int(\"\".join(x[0:i+1]))\n",
    "                b = int(\"\".join(x[i+1:j+1]))\n",
    "                c = int(\"\".join(x[j+1:]))\n",
    "                ab = a*b\n",
    "                if ab == c:\n",
    "                    result.append([a, b, c])\n",
    "    return(result)"
   ]
  },
  {
   "cell_type": "code",
   "execution_count": 64,
   "metadata": {},
   "outputs": [
    {
     "data": {
      "text/plain": [
       "[[39, 186, 7254]]"
      ]
     },
     "execution_count": 64,
     "metadata": {},
     "output_type": "execute_result"
    }
   ],
   "source": [
    "one_pandigital(list(str(391867254)))"
   ]
  },
  {
   "cell_type": "code",
   "execution_count": 65,
   "metadata": {},
   "outputs": [],
   "source": [
    "all_pandigital = [one_pandigital(x) for x in all_perm]"
   ]
  },
  {
   "cell_type": "code",
   "execution_count": 71,
   "metadata": {},
   "outputs": [
    {
     "name": "stdout",
     "output_type": "stream",
     "text": [
      "45228\n"
     ]
    }
   ],
   "source": [
    "all_pandigital_sum = sum(set([x[0][2] for x in all_pandigital if x != []]))\n",
    "print(all_pandigital_sum)"
   ]
  }
 ],
 "metadata": {
  "kernelspec": {
   "display_name": "Python 3",
   "language": "python",
   "name": "python3"
  },
  "language_info": {
   "codemirror_mode": {
    "name": "ipython",
    "version": 3
   },
   "file_extension": ".py",
   "mimetype": "text/x-python",
   "name": "python",
   "nbconvert_exporter": "python",
   "pygments_lexer": "ipython3",
   "version": "3.8.5"
  }
 },
 "nbformat": 4,
 "nbformat_minor": 4
}
