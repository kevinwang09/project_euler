{
 "cells": [
  {
   "cell_type": "markdown",
   "metadata": {},
   "source": [
    "# Problem 31: Coin sums\n",
    "\n",
    "In the United Kingdom the currency is made up of pound (£) and pence (p). There are eight coins in general circulation:\n",
    "\n",
    "1p, 2p, 5p, 10p, 20p, 50p, £1 (100p), and £2 (200p).\n",
    "It is possible to make £2 in the following way:\n",
    "\n",
    "1×£1 + 1×50p + 2×20p + 1×5p + 1×2p + 3×1p\n",
    "How many different ways can £2 be made using any number of coins?"
   ]
  },
  {
   "cell_type": "markdown",
   "metadata": {},
   "source": [
    "Solution: \n",
    "Suppose we have a target, T, and a set of coins, S. And https://www.xarg.org/puzzle/project-euler/problem-31/ is pretty good with the explaination here. The question is always with respect to some matrix of values that are lower than T. \n",
    "\n",
    "Suppose a matrix (M = M{i,j}) is constructed with rows corresponding to 1, ..., T and columns corresponding to S1, ..., Sk. \n",
    "\n",
    "The patterns of an element M{i,j} in the matrix M can be expressed as: \n",
    "\n",
    "+ If Sj = 1, then M{i,j} = 1. Because if we can only use coins with value of 1, then there is only one solution for any given target value. \n",
    "+ If T < Sj, then the value is the same as M{i, j-1}. i.e. if the coin value is bigger than the target, then we can't use such a coin. So whatever our solution was using previous coins (i.e. coins with smaller values), then those are the only solutions. \n",
    "+ If T == Sj, then we can use our previous solutions (with smaller values) plus one extra solution, which is Sj itself. \n",
    "+ If T > Sj, then our solution is composed of (1), making up the target using coins with values less than Sj and (2) making up the difference, T - Sj using the available coins with values up to Sj. "
   ]
  },
  {
   "cell_type": "code",
   "execution_count": 2,
   "metadata": {},
   "outputs": [],
   "source": [
    "S = [1, 2, 5, 10, 20, 50, 100, 200]\n",
    "T = 200\n",
    "\n",
    "import numpy as np\n",
    "M = np.zeros((T, len(S)))"
   ]
  },
  {
   "cell_type": "code",
   "execution_count": 3,
   "metadata": {},
   "outputs": [],
   "source": [
    "for i in range(M.shape[0]):\n",
    "    for j in range(M.shape[1]):\n",
    "        if j == 0:\n",
    "            M[i, j] = 1\n",
    "        elif (i + 1) < S[j]:\n",
    "            M[i, j] = M[i, j-1]\n",
    "        elif (i + 1) == S[j]:\n",
    "            M[i, j] = M[i, j-1] + 1\n",
    "        else:\n",
    "            M[i, j] = M[i, j-1] + M[i - S[j], j] "
   ]
  },
  {
   "cell_type": "code",
   "execution_count": 4,
   "metadata": {},
   "outputs": [
    {
     "name": "stdout",
     "output_type": "stream",
     "text": [
      "73682.0\n"
     ]
    }
   ],
   "source": [
    "print(M[-1,-1])"
   ]
  },
  {
   "cell_type": "markdown",
   "metadata": {},
   "source": [
    "# Problem 32: Pandigital products\n",
    "\n",
    "We shall say that an n-digit number is pandigital if it makes use of all the digits 1 to n exactly once; for example, the 5-digit number, 15234, is 1 through 5 pandigital.\n",
    "\n",
    "The product 7254 is unusual, as the identity, 39 × 186 = 7254, containing multiplicand, multiplier, and product is 1 through 9 pandigital.\n",
    "\n",
    "Find the sum of all products whose multiplicand/multiplier/product identity can be written as a 1 through 9 pandigital.\n",
    "\n",
    "HINT: Some products can be obtained in more than one way so be sure to only include it once in your sum."
   ]
  },
  {
   "cell_type": "code",
   "execution_count": 5,
   "metadata": {},
   "outputs": [
    {
     "name": "stdout",
     "output_type": "stream",
     "text": [
      "362880\n",
      "['1', '2', '3', '4', '5', '6', '7', '8', '9']\n"
     ]
    }
   ],
   "source": [
    "import itertools\n",
    "l = list(range(1, 10))\n",
    "l = [str(x) for x in l]\n",
    "all_perm = list(itertools.permutations(l))\n",
    "all_perm = [list(x) for x in all_perm]\n",
    "print(len(all_perm))\n",
    "print(all_perm[0])"
   ]
  },
  {
   "cell_type": "code",
   "execution_count": 6,
   "metadata": {},
   "outputs": [],
   "source": [
    "def one_pandigital(x):\n",
    "    result = []\n",
    "    for i in range(10):\n",
    "        for j in range(1, 10):\n",
    "            if i == j or j < i or i + j >= 8:\n",
    "                next\n",
    "            else:\n",
    "                a = int(\"\".join(x[0:i+1]))\n",
    "                b = int(\"\".join(x[i+1:j+1]))\n",
    "                c = int(\"\".join(x[j+1:]))\n",
    "                ab = a*b\n",
    "                if ab == c:\n",
    "                    result.append([a, b, c])\n",
    "    return(result)"
   ]
  },
  {
   "cell_type": "code",
   "execution_count": 7,
   "metadata": {},
   "outputs": [
    {
     "data": {
      "text/plain": [
       "[[39, 186, 7254]]"
      ]
     },
     "execution_count": 7,
     "metadata": {},
     "output_type": "execute_result"
    }
   ],
   "source": [
    "one_pandigital(list(str(391867254)))"
   ]
  },
  {
   "cell_type": "code",
   "execution_count": 8,
   "metadata": {},
   "outputs": [],
   "source": [
    "all_pandigital = [one_pandigital(x) for x in all_perm]"
   ]
  },
  {
   "cell_type": "code",
   "execution_count": 9,
   "metadata": {},
   "outputs": [
    {
     "name": "stdout",
     "output_type": "stream",
     "text": [
      "45228\n"
     ]
    }
   ],
   "source": [
    "all_pandigital_sum = sum(set([x[0][2] for x in all_pandigital if x != []]))\n",
    "print(all_pandigital_sum)"
   ]
  },
  {
   "cell_type": "markdown",
   "metadata": {},
   "source": [
    "# Problem 33: Digit cancelling fraction\n",
    "\n",
    "The fraction 49/98 is a curious fraction, as an inexperienced mathematician in attempting to simplify it may incorrectly believe that 49/98 = 4/8, which is correct, is obtained by cancelling the 9s.\n",
    "\n",
    "We shall consider fractions like, 30/50 = 3/5, to be trivial examples.\n",
    "\n",
    "There are exactly four non-trivial examples of this type of fraction, less than one in value, and containing two digits in the numerator and denominator.\n",
    "\n",
    "If the product of these four fractions is given in its lowest common terms, find the value of the denominator."
   ]
  },
  {
   "cell_type": "markdown",
   "metadata": {},
   "source": [
    "Solution: Using a brute force approach. Searching all integers between 10 and 99 as denominator (excluding all integers that are divisible by 10 (i.e. the trivial cases). "
   ]
  },
  {
   "cell_type": "code",
   "execution_count": 21,
   "metadata": {},
   "outputs": [
    {
     "name": "stdout",
     "output_type": "stream",
     "text": [
      "6\n",
      "['6']\n",
      "['4']\n"
     ]
    }
   ],
   "source": [
    "a = ['6', '6']\n",
    "b = ['6', '4']\n",
    "inter = list((set(a) & set(b)))[0]\n",
    "# inter = []\n",
    "print(inter)\n",
    "a.remove(inter)\n",
    "b.remove(inter)\n",
    "print(a)\n",
    "print(b)"
   ]
  },
  {
   "cell_type": "code",
   "execution_count": 22,
   "metadata": {},
   "outputs": [],
   "source": [
    "deno_num = list(range(10, 100))\n",
    "deno_num = [x for x in deno_num if x % 10 != 0]"
   ]
  },
  {
   "cell_type": "code",
   "execution_count": 23,
   "metadata": {},
   "outputs": [
    {
     "name": "stdout",
     "output_type": "stream",
     "text": [
      "i = 64, j = 16\n",
      "i = 65, j = 26\n",
      "i = 95, j = 19\n",
      "i = 98, j = 49\n"
     ]
    }
   ],
   "source": [
    "for i in deno_num:\n",
    "    nume_num = [x for x in deno_num if x < int(i)]\n",
    "    for j in nume_num:\n",
    "        frac_num = j/i\n",
    "        i_strlist = list(str(i))\n",
    "        j_strlist = list(str(j))\n",
    "        inter = list((set(i_strlist) & set(j_strlist)))\n",
    "        if inter != []:\n",
    "            inter_str = inter[0]\n",
    "            i_strlist_rm = i_strlist;\n",
    "            j_strlist_rm = j_strlist;\n",
    "            i_strlist_rm.remove(inter_str)\n",
    "            j_strlist_rm.remove(inter_str)\n",
    "            frac_rm_num = int(j_strlist_rm[0])/int(i_strlist_rm[0])\n",
    "            if frac_num == frac_rm_num:\n",
    "                print(\"i = \" + str(i) + \", j = \" + str(j))\n",
    "        "
   ]
  },
  {
   "cell_type": "code",
   "execution_count": 38,
   "metadata": {},
   "outputs": [
    {
     "name": "stdout",
     "output_type": "stream",
     "text": [
      "387296\n",
      "38729600\n"
     ]
    }
   ],
   "source": [
    "print(16*26*19*49)\n",
    "print(64*65*95*98)"
   ]
  },
  {
   "cell_type": "markdown",
   "metadata": {},
   "source": [
    "# Problem 34: Digit factorials\n",
    "145 is a curious number, as 1! + 4! + 5! = 1 + 24 + 120 = 145.\n",
    "\n",
    "Find the sum of all numbers which are equal to the sum of the factorial of their digits.\n",
    "\n",
    "Note: As 1! = 1 and 2! = 2 are not sums they are not included."
   ]
  },
  {
   "cell_type": "markdown",
   "metadata": {},
   "source": [
    "Solution: The hard part aabout this problem is to determine an appropriate upper bound. Suppose a number has k digits. The maximum of this number is 10^k - 1. The maximum of the sum of all factorials of the digits is k 9!. Because the nature of the factorial, the second will always be greater than the first term, after a certain choice of k. Once we can find a value for k, then we will find out what is our upper bound for our search. "
   ]
  },
  {
   "cell_type": "code",
   "execution_count": 55,
   "metadata": {},
   "outputs": [
    {
     "data": {
      "text/plain": [
       "-7459841"
      ]
     },
     "execution_count": 55,
     "metadata": {},
     "output_type": "execute_result"
    }
   ],
   "source": [
    "import math\n",
    "k = 7\n",
    "k* math.factorial(9) - 10 ** k - 1"
   ]
  },
  {
   "cell_type": "code",
   "execution_count": 62,
   "metadata": {},
   "outputs": [
    {
     "name": "stdout",
     "output_type": "stream",
     "text": [
      "121\n",
      "145\n"
     ]
    }
   ],
   "source": [
    "def factorial_sum(x: int):\n",
    "    list_factorials_x = int(sum([math.factorial(int(i)) for i in list(str(x))]))\n",
    "    return(list_factorials_x)\n",
    "\n",
    "print(factorial_sum(15))\n",
    "print(factorial_sum(145))"
   ]
  },
  {
   "cell_type": "code",
   "execution_count": 65,
   "metadata": {},
   "outputs": [],
   "source": [
    "list_nums = list(range(10, 10**7 -1))\n",
    "list_result = [x for x in list_nums if x == factorial_sum(x)]"
   ]
  },
  {
   "cell_type": "code",
   "execution_count": 66,
   "metadata": {},
   "outputs": [
    {
     "name": "stdout",
     "output_type": "stream",
     "text": [
      "[145, 40585]\n"
     ]
    }
   ],
   "source": [
    "print(list_result)"
   ]
  },
  {
   "cell_type": "code",
   "execution_count": 68,
   "metadata": {},
   "outputs": [
    {
     "name": "stdout",
     "output_type": "stream",
     "text": [
      "40730\n"
     ]
    }
   ],
   "source": [
    "print(sum(list_result))"
   ]
  },
  {
   "cell_type": "markdown",
   "metadata": {},
   "source": [
    "# Problem 35: Circular primes\n",
    "\n",
    "The number, 197, is called a circular prime because all rotations of the digits: 197, 971, and 719, are themselves prime.\n",
    "\n",
    "There are thirteen such primes below 100: 2, 3, 5, 7, 11, 13, 17, 31, 37, 71, 73, 79, and 97.\n",
    "\n",
    "How many circular primes are there below one million?"
   ]
  },
  {
   "cell_type": "markdown",
   "metadata": {},
   "source": [
    "Solution: The brute force solution is to look into all primes below 1 million. For each of the primes, compute its circular set, and check if all the circular sets are in the computed list of primes. "
   ]
  },
  {
   "cell_type": "code",
   "execution_count": 124,
   "metadata": {},
   "outputs": [],
   "source": [
    "## Primality test function from wikipedia\n",
    "\n",
    "def is_prime(n: int) -> bool:\n",
    "    \"\"\"Primality test using 6k+-1 optimization.\"\"\"\n",
    "    if n <= 3:\n",
    "        return n > 1\n",
    "    if n % 2 == 0 or n % 3 == 0:\n",
    "        return False\n",
    "    i = 5\n",
    "    while i ** 2 <= n:\n",
    "        if n % i == 0 or n % (i + 2) == 0:\n",
    "            return False\n",
    "        i += 6\n",
    "    return True"
   ]
  },
  {
   "cell_type": "code",
   "execution_count": 125,
   "metadata": {},
   "outputs": [],
   "source": [
    "all_primes_below = [x for x in list(range(2, int(1e6))) if is_prime(x)]"
   ]
  },
  {
   "cell_type": "code",
   "execution_count": 126,
   "metadata": {},
   "outputs": [
    {
     "name": "stdout",
     "output_type": "stream",
     "text": [
      "78498\n"
     ]
    }
   ],
   "source": [
    "print(len(all_primes_below))"
   ]
  },
  {
   "cell_type": "code",
   "execution_count": 138,
   "metadata": {},
   "outputs": [],
   "source": [
    "def cyclic_perm(a):\n",
    "    n = len(a)\n",
    "    b = [[a[i - j] for i in range(n)] for j in range(n)]\n",
    "    return b\n",
    "\n",
    "def perm2_int(x_str):\n",
    "    if len(x_str) == 1 and x_str in ['0', '2', '4', '6', '8']:\n",
    "        return(False)\n",
    "    l = list(cyclic_perm(x_str))\n",
    "#     print(l)\n",
    "    ints = [int(\"\".join(list(x))) for x in l]\n",
    "#     print(ints)\n",
    "    perm_are_all_primes = all([x in all_primes_below for x in ints])\n",
    "#     print(perm_are_all_primes)\n",
    "    return(perm_are_all_primes)"
   ]
  },
  {
   "cell_type": "code",
   "execution_count": 139,
   "metadata": {},
   "outputs": [
    {
     "name": "stdout",
     "output_type": "stream",
     "text": [
      "False\n",
      "True\n",
      "True\n",
      "False\n"
     ]
    }
   ],
   "source": [
    "print(perm2_int(['1', '9']))\n",
    "print(perm2_int(['1', '7']))\n",
    "print(perm2_int(['1', '9', '7']))\n",
    "print(perm2_int(['1', '0', '0', '0', '0', '0', '0', '0', '0', '0', '0', '0', '0', '0']))"
   ]
  },
  {
   "cell_type": "code",
   "execution_count": 151,
   "metadata": {},
   "outputs": [
    {
     "name": "stdout",
     "output_type": "stream",
     "text": [
      "[2, 3, 5, 7, 11, 13, 17, 31, 37, 71, 73, 79, 97, 113, 131, 197, 199, 311, 337, 373, 719, 733, 919, 971, 991, 1193, 1931, 3119, 3779, 7793, 7937, 9311, 9377, 11939, 19391, 19937, 37199, 39119, 71993, 91193, 93719, 93911, 99371, 193939, 199933, 319993, 331999, 391939, 393919, 919393, 933199, 939193, 939391, 993319, 999331]\n"
     ]
    }
   ],
   "source": [
    "qualify = [x for x in all_primes_below if perm2_int(list(str(x)))]\n",
    "print(qualify)"
   ]
  },
  {
   "cell_type": "code",
   "execution_count": 152,
   "metadata": {},
   "outputs": [
    {
     "name": "stdout",
     "output_type": "stream",
     "text": [
      "55\n"
     ]
    }
   ],
   "source": [
    "print(len(qualify))"
   ]
  },
  {
   "cell_type": "markdown",
   "metadata": {},
   "source": [
    "# Problem 36: Double-base palindromes\n",
    "The decimal number, 585 = 10010010012 (binary), is palindromic in both bases.\n",
    "\n",
    "Find the sum of all numbers, less than one million, which are palindromic in base 10 and base 2.\n",
    "\n",
    "(Please note that the palindromic number, in either base, may not include leading zeros.)"
   ]
  },
  {
   "cell_type": "markdown",
   "metadata": {},
   "source": [
    "Solution: Brute force solution will be, compute all the palindromes in base 10 and compute the corresponding base 2 equivalent to check if it is palindrome."
   ]
  },
  {
   "cell_type": "code",
   "execution_count": 159,
   "metadata": {},
   "outputs": [
    {
     "name": "stdout",
     "output_type": "stream",
     "text": [
      "[1, 2, 3]\n",
      "[3, 2, 1]\n"
     ]
    },
    {
     "data": {
      "text/plain": [
       "False"
      ]
     },
     "execution_count": 159,
     "metadata": {},
     "output_type": "execute_result"
    }
   ],
   "source": [
    "x = [1,2,3]\n",
    "y = x[::-1]\n",
    "print(x)\n",
    "print(y)"
   ]
  },
  {
   "cell_type": "code",
   "execution_count": 164,
   "metadata": {},
   "outputs": [
    {
     "name": "stdout",
     "output_type": "stream",
     "text": [
      "True\n",
      "False\n",
      "True\n"
     ]
    }
   ],
   "source": [
    "def is_palindrome(x: int):\n",
    "    x_list = list(str(x))\n",
    "    x_list_rev = x_list[::-1]\n",
    "    return(x_list == x_list_rev)\n",
    "\n",
    "print(is_palindrome(1))\n",
    "print(is_palindrome(10))\n",
    "print(is_palindrome(1001))"
   ]
  },
  {
   "cell_type": "code",
   "execution_count": 170,
   "metadata": {},
   "outputs": [
    {
     "name": "stdout",
     "output_type": "stream",
     "text": [
      "1\n",
      "1010\n",
      "1111101001\n",
      "<class 'str'>\n"
     ]
    }
   ],
   "source": [
    "from numpy import binary_repr\n",
    "\n",
    "print(binary_repr(1))\n",
    "print(binary_repr(10))\n",
    "print(binary_repr(1001))\n",
    "print(type(binary_repr(1)))"
   ]
  },
  {
   "cell_type": "code",
   "execution_count": 181,
   "metadata": {},
   "outputs": [],
   "source": [
    "all_palin = [x for x in list(range(1, int(1e6 + 1))) if is_palindrome(x) and is_palindrome(binary_repr(int(x)))]"
   ]
  },
  {
   "cell_type": "code",
   "execution_count": 182,
   "metadata": {},
   "outputs": [
    {
     "name": "stdout",
     "output_type": "stream",
     "text": [
      "[1, 3, 5, 7, 9, 33, 99, 313, 585, 717, 7447, 9009, 15351, 32223, 39993, 53235, 53835, 73737, 585585]\n",
      "872187\n"
     ]
    }
   ],
   "source": [
    "print(all_palin)\n",
    "print(sum(all_palin))"
   ]
  },
  {
   "cell_type": "code",
   "execution_count": 180,
   "metadata": {},
   "outputs": [
    {
     "data": {
      "text/plain": [
       "['11',\n",
       " '101',\n",
       " '111',\n",
       " '1001',\n",
       " '100001',\n",
       " '1100011',\n",
       " '100111001',\n",
       " '1001001001',\n",
       " '1011001101',\n",
       " '1110100010111',\n",
       " '10001100110001',\n",
       " '11101111110111',\n",
       " '111110111011111',\n",
       " '1001110000111001',\n",
       " '1100111111110011',\n",
       " '1101001001001011',\n",
       " '10010000000001001',\n",
       " '10001110111101110001']"
      ]
     },
     "execution_count": 180,
     "metadata": {},
     "output_type": "execute_result"
    }
   ],
   "source": [
    "[binary_repr(x) for x in all_palin]"
   ]
  },
  {
   "cell_type": "markdown",
   "metadata": {},
   "source": [
    "# Problem 37: Truncatable primes\n",
    "The number 3797 has an interesting property. Being prime itself, it is possible to continuously remove digits from left to right, and remain prime at each stage: 3797, 797, 97, and 7. Similarly we can work from right to left: 3797, 379, 37, and 3.\n",
    "\n",
    "Find the sum of the only eleven primes that are both truncatable from left to right and right to left.\n",
    "\n",
    "NOTE: 2, 3, 5, and 7 are not considered to be truncatable primes."
   ]
  },
  {
   "cell_type": "code",
   "execution_count": 253,
   "metadata": {},
   "outputs": [
    {
     "name": "stdout",
     "output_type": "stream",
     "text": [
      "['3', '7', '9', '7']\n",
      "['3', '7', '9']\n",
      "['3']\n",
      "[3, 37, 379]\n",
      "[797, 97, 7]\n",
      "True\n",
      "True\n"
     ]
    }
   ],
   "source": [
    "x = 3797\n",
    "\n",
    "x_str = list(str(x))\n",
    "print(x_str)\n",
    "print(x_str[:-1])\n",
    "print(x_str[:1])\n",
    "x_ints_trucright = [int(\"\".join(x_str[:i])) for i in range(1, len(x_str))]\n",
    "x_ints_trucleft = [int(\"\".join(x_str[i:len(x_str)])) for i in range(1, len(x_str))]\n",
    "trucright_allin = all([x in all_primes_below for x in x_ints_trucright])\n",
    "trucleft_allin = all([x in all_primes_below for x in x_ints_trucleft])\n",
    "\n",
    "print(x_ints_trucright)\n",
    "print(x_ints_trucleft)\n",
    "print(trucright_allin)\n",
    "print(trucleft_allin)"
   ]
  },
  {
   "cell_type": "code",
   "execution_count": 295,
   "metadata": {},
   "outputs": [
    {
     "name": "stdout",
     "output_type": "stream",
     "text": [
      "4\n",
      "3797\n",
      "7973\n",
      "[7, 97, 797]\n",
      "[379, 37, 3]\n",
      "[True, True, True]\n",
      "True\n"
     ]
    }
   ],
   "source": [
    "x = 3797\n",
    "x_ndigits = len(str(x))\n",
    "# x_rev = int(\"\".join(list(reversed(str(x)))))\n",
    "\n",
    "print(x_ndigits)\n",
    "print(x)\n",
    "print(x_rev)\n",
    "# print(x % (10 ** 1))\n",
    "\n",
    "x_ints_trucleft = [int(x % int(10 ** i)) for i in range(1, x_ndigits)]\n",
    "x_ints_trucright = [math.floor(x/(10 ** i)) for i in range(1, x_ndigits)]\n",
    "\n",
    "trucright_allin = all([y in all_primes_below for y in x_ints_trucright])\n",
    "trucleft_allin = all([y in all_primes_below for y in x_ints_trucleft])\n",
    "\n",
    "print(x_ints_trucleft)\n",
    "print(x_ints_trucright)\n",
    "print([y in all_primes_below for y in x_ints_trucright])\n",
    "print(trucright_allin and trucright_allin)"
   ]
  },
  {
   "cell_type": "code",
   "execution_count": 300,
   "metadata": {},
   "outputs": [],
   "source": [
    "def is_truc_prime(x: int):\n",
    "    x_str = list(str(x))\n",
    "    x_ndigits = len(x_str)\n",
    "#     x_rev = int(\"\".join(list(reversed(str(x)))))\n",
    "    \n",
    "    if len(x_str) == 1:\n",
    "        return(False)\n",
    "    else: \n",
    "#         x_ints_trucright = [int(\"\".join(x_str[:i])) for i in range(1, len(x_str))]\n",
    "#         x_ints_trucleft = [int(\"\".join(x_str[i:len(x_str)])) for i in range(1, len(x_str))]\n",
    "        x_ints_trucleft = [int(x % int(10 ** i)) for i in range(1, x_ndigits)]\n",
    "        x_ints_trucright = [math.floor(x/(10 ** i)) for i in range(1, x_ndigits)]\n",
    "\n",
    "        trucright_allin = all([y in all_primes_below for y in x_ints_trucright])\n",
    "        trucleft_allin = all([y in all_primes_below for y in x_ints_trucleft])\n",
    "        \n",
    "        return(trucright_allin and trucleft_allin)"
   ]
  },
  {
   "cell_type": "code",
   "execution_count": 301,
   "metadata": {},
   "outputs": [
    {
     "name": "stdout",
     "output_type": "stream",
     "text": [
      "True\n",
      "True\n",
      "False\n",
      "False\n",
      "False\n"
     ]
    }
   ],
   "source": [
    "print(is_truc_prime(3797))\n",
    "print(is_truc_prime(23))\n",
    "print(is_truc_prime(47))\n",
    "print(is_truc_prime(19))\n",
    "print(is_truc_prime(2))"
   ]
  },
  {
   "cell_type": "code",
   "execution_count": 302,
   "metadata": {},
   "outputs": [],
   "source": [
    "all_trunc_primes = []\n",
    "i = 0\n",
    "count = 0\n",
    "\n",
    "while(count < 11):\n",
    "    if is_truc_prime(all_primes_below[i]):\n",
    "        all_trunc_primes.append(all_primes_below[i])\n",
    "        count = count + 1\n",
    "    i = i + 1"
   ]
  },
  {
   "cell_type": "code",
   "execution_count": 303,
   "metadata": {},
   "outputs": [
    {
     "name": "stdout",
     "output_type": "stream",
     "text": [
      "11\n",
      "748317\n"
     ]
    }
   ],
   "source": [
    "print(len(all_trunc_primes))\n",
    "print(sum(all_trunc_primes))"
   ]
  },
  {
   "cell_type": "markdown",
   "metadata": {},
   "source": [
    "# Problem 38: pandigital multiples\n",
    "\n",
    "Take the number 192 and multiply it by each of 1, 2, and 3:\n",
    "\n",
    "192 × 1 = 192\n",
    "192 × 2 = 384\n",
    "192 × 3 = 576\n",
    "By concatenating each product we get the 1 to 9 pandigital, 192384576. We will call 192384576 the concatenated product of 192 and (1,2,3)\n",
    "\n",
    "The same can be achieved by starting with 9 and multiplying by 1, 2, 3, 4, and 5, giving the pandigital, 918273645, which is the concatenated product of 9 and (1,2,3,4,5).\n",
    "\n",
    "What is the largest 1 to 9 pandigital 9-digit number that can be formed as the concatenated product of an integer with (1,2, ... , n) where n > 1?"
   ]
  },
  {
   "cell_type": "markdown",
   "metadata": {},
   "source": [
    "Solution: There are a couple of properties that we can utilise to place an upper bound for our search:\n",
    "\n",
    "1. Because of the example given, we know the number must be larger than 918273645. And since that the first multiplication is between x and {1, ..., n}, we know the desired number x must have a leading digit of 9. \n",
    "2. Because we are concatenating at least two integers together, we must have exactly 9 digits, i.e. if concatenating 2 integers together, we only have 8 digits, we cannot use the next digit in the next number. \n",
    "3. Because of n > 1, we know the smallest set of {1, ..., n} can only be {1, 2}. But also because the number of digits must be 9, hence, the maximum search of x must be up to a four digit number (when multiplied with 1) and a five digit number (when multiplied with 2). This means that we only have to search up to a four digit number leading with a 9. This can greatly narrow down our search space. \n",
    "4. Furthermore, because that the first multiplication with with 1, x must be of different digits in itself. i.e. x cannot be anything like 9999, because that fails the pandigital condition in the product. \n",
    "5. Note that the largest value of x does not necessarily satisfy the answer."
   ]
  },
  {
   "cell_type": "code",
   "execution_count": 392,
   "metadata": {},
   "outputs": [
    {
     "name": "stdout",
     "output_type": "stream",
     "text": [
      "Pandigital found: True\n",
      "['9', '18', '27', '36', '45', '54', '63', '72', '81']\n",
      "[ 1  3  5  7  9 11 13 15 17]\n",
      "91827364554637281\n",
      "['1', '2', '3', '4', '5', '6', '7', '8', '9']\n",
      "<class 'list'>\n"
     ]
    }
   ],
   "source": [
    "## Given example\n",
    "import numpy as np\n",
    "n = 9\n",
    "target = list(map(str, list(range(1, 10))))\n",
    "\n",
    "n_vector = [str(n * x) for x in range(1, 10)]\n",
    "n_vector_length_cumsum = np.cumsum(np.array([len(x) for x in n_vector]))\n",
    "\n",
    "if 9 in n_vector_length_cumsum:\n",
    "    n_digits = \"\".join(n_vector)\n",
    "    n_digits9 = sorted(n_digits[:9])\n",
    "    print(\"Pandigital found: \" + str(target == n_digits9))\n",
    "else: \n",
    "    print(\"ERROR!\")\n",
    "\n",
    "print(n_vector)\n",
    "print(n_vector_length_cumsum)\n",
    "print(n_digits)\n",
    "print(sorted(n_digits9))\n",
    "print(type(n_digits9))"
   ]
  },
  {
   "cell_type": "code",
   "execution_count": 431,
   "metadata": {},
   "outputs": [],
   "source": [
    "target = list(map(str, list(range(1, 10))))\n",
    "\n",
    "def pandigital_9(n: int):\n",
    "    n_vector = [str(n * x) for x in range(1, 10)]\n",
    "    n_vector_length_cumsum = list(np.cumsum(np.array([len(x) for x in n_vector])))\n",
    "    if 9 in n_vector_length_cumsum:\n",
    "        n_digits = \"\".join(n_vector)\n",
    "        n_digits9 = sorted(n_digits[:9])\n",
    "        result = [target == n_digits9, int(n_digits[:9]), n_vector]\n",
    "        return(result)\n",
    "    else: \n",
    "        return([False])"
   ]
  },
  {
   "cell_type": "code",
   "execution_count": 432,
   "metadata": {},
   "outputs": [
    {
     "name": "stdout",
     "output_type": "stream",
     "text": [
      "[True, 918273645, ['9', '18', '27', '36', '45', '54', '63', '72', '81']]\n",
      "[False]\n",
      "[False]\n",
      "[False]\n",
      "[False, 987619752, ['9876', '19752', '29628', '39504', '49380', '59256', '69132', '79008', '88884']]\n"
     ]
    }
   ],
   "source": [
    "print(pandigital_9(9))\n",
    "print(pandigital_9(91))\n",
    "print(pandigital_9(92))\n",
    "print(pandigital_9(987))\n",
    "print(pandigital_9(9876)) ## largest possible, because we need n > 1"
   ]
  },
  {
   "cell_type": "code",
   "execution_count": 433,
   "metadata": {},
   "outputs": [
    {
     "name": "stdout",
     "output_type": "stream",
     "text": [
      "[9, 90, 91, 92, 93, 94, 95, 96, 97, 98, 901, 902, 903, 904, 905, 906, 907, 908, 910, 912]\n"
     ]
    }
   ],
   "source": [
    "leading9 = [9, *range(90, 100), *range(900, 1000), *range(9000, 10000)]\n",
    "leading9_uniquedigits = [x for x in leading9 if len(set(str(x))) == len(str(x))]\n",
    "print(leading9_uniquedigits[:20])"
   ]
  },
  {
   "cell_type": "code",
   "execution_count": 434,
   "metadata": {},
   "outputs": [],
   "source": [
    "pan_leading9 = [pandigital_9(n) for n in leading9_uniquedigits]"
   ]
  },
  {
   "cell_type": "code",
   "execution_count": 440,
   "metadata": {},
   "outputs": [
    {
     "name": "stdout",
     "output_type": "stream",
     "text": [
      "[[True, 918273645, ['9', '18', '27', '36', '45', '54', '63', '72', '81']], [True, 926718534, ['9267', '18534', '27801', '37068', '46335', '55602', '64869', '74136', '83403']], [True, 927318546, ['9273', '18546', '27819', '37092', '46365', '55638', '64911', '74184', '83457']], [True, 932718654, ['9327', '18654', '27981', '37308', '46635', '55962', '65289', '74616', '83943']]]\n"
     ]
    }
   ],
   "source": [
    "pan_leading9_true = [x for x in pan_leading9 if x[0]]\n",
    "print(pan_leading9_true)"
   ]
  },
  {
   "cell_type": "markdown",
   "metadata": {},
   "source": [
    "# Problem 39: Integer right triangles\n",
    "\n",
    "If p is the perimeter of a right angle triangle with integral length sides, {a,b,c}, there are exactly three solutions for p = 120.\n",
    "\n",
    "{20,48,52}, {24,45,51}, {30,40,50}\n",
    "\n",
    "For which value of p ≤ 1000, is the number of solutions maximised?"
   ]
  },
  {
   "cell_type": "markdown",
   "metadata": {},
   "source": [
    "Solution: We will use a brute force approach here. List all the integers between 1 and floor(p/2) for both a and b. This contrains what c to be p - a - b. And then we check for a2 + b2 == c2 and sum."
   ]
  },
  {
   "cell_type": "code",
   "execution_count": 473,
   "metadata": {},
   "outputs": [],
   "source": [
    "import numpy as np\n",
    "import math\n",
    "p = 120\n",
    "a = list(range(1, math.floor(p/2)))\n",
    "b = a;\n",
    "result = np.empty((0, 3), int)\n",
    "\n",
    "for i in a:\n",
    "    for j in b:\n",
    "        c = int(p - i - j)\n",
    "        if i**2 + j**2 == c**2:\n",
    "            result = np.append(result, np.array([[i,j,c]]), axis=0)"
   ]
  },
  {
   "cell_type": "code",
   "execution_count": 474,
   "metadata": {},
   "outputs": [
    {
     "data": {
      "text/plain": [
       "array([[20, 48, 52],\n",
       "       [24, 45, 51],\n",
       "       [30, 40, 50],\n",
       "       [40, 30, 50],\n",
       "       [45, 24, 51],\n",
       "       [48, 20, 52]])"
      ]
     },
     "execution_count": 474,
     "metadata": {},
     "output_type": "execute_result"
    }
   ],
   "source": [
    "result"
   ]
  },
  {
   "cell_type": "code",
   "execution_count": 476,
   "metadata": {},
   "outputs": [],
   "source": [
    "def find_triplets(p: int):\n",
    "    a = list(range(1, math.floor(p/2)))\n",
    "    b = a;\n",
    "    result = np.empty((0, 3), int)\n",
    "\n",
    "    for i in a:\n",
    "        for j in b:\n",
    "            c = int(p - i - j)\n",
    "            if i**2 + j**2 == c**2:\n",
    "                result = np.append(result, np.array([[i,j,c]]), axis=0)\n",
    "    return(result)"
   ]
  },
  {
   "cell_type": "code",
   "execution_count": 477,
   "metadata": {},
   "outputs": [],
   "source": [
    "all_triplets = [find_triplets(x) for x in range(1, 1001)]"
   ]
  },
  {
   "cell_type": "code",
   "execution_count": 482,
   "metadata": {},
   "outputs": [],
   "source": [
    "all_triplets_rows = np.array([x.shape[0] for x in all_triplets])"
   ]
  },
  {
   "cell_type": "code",
   "execution_count": 487,
   "metadata": {},
   "outputs": [
    {
     "data": {
      "text/plain": [
       "(array([839], dtype=int64),)"
      ]
     },
     "execution_count": 487,
     "metadata": {},
     "output_type": "execute_result"
    }
   ],
   "source": [
    "np.where(all_triplets_rows == np.max(all_triplets_rows))"
   ]
  },
  {
   "cell_type": "code",
   "execution_count": 490,
   "metadata": {},
   "outputs": [
    {
     "data": {
      "text/plain": [
       "array([[ 40, 399, 401],\n",
       "       [ 56, 390, 394],\n",
       "       [105, 360, 375],\n",
       "       [120, 350, 370],\n",
       "       [140, 336, 364],\n",
       "       [168, 315, 357],\n",
       "       [210, 280, 350],\n",
       "       [240, 252, 348],\n",
       "       [252, 240, 348],\n",
       "       [280, 210, 350],\n",
       "       [315, 168, 357],\n",
       "       [336, 140, 364],\n",
       "       [350, 120, 370],\n",
       "       [360, 105, 375],\n",
       "       [390,  56, 394],\n",
       "       [399,  40, 401]])"
      ]
     },
     "execution_count": 490,
     "metadata": {},
     "output_type": "execute_result"
    }
   ],
   "source": [
    "all_triplets[839]"
   ]
  },
  {
   "cell_type": "code",
   "execution_count": null,
   "metadata": {},
   "outputs": [],
   "source": []
  }
 ],
 "metadata": {
  "kernelspec": {
   "display_name": "Python 3",
   "language": "python",
   "name": "python3"
  },
  "language_info": {
   "codemirror_mode": {
    "name": "ipython",
    "version": 3
   },
   "file_extension": ".py",
   "mimetype": "text/x-python",
   "name": "python",
   "nbconvert_exporter": "python",
   "pygments_lexer": "ipython3",
   "version": "3.8.5"
  }
 },
 "nbformat": 4,
 "nbformat_minor": 4
}
