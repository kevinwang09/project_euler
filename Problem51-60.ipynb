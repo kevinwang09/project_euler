{
 "cells": [
  {
   "cell_type": "markdown",
   "metadata": {},
   "source": [
    "# Problem 51: Prime digit replacement\n",
    "\n",
    "By replacing the 1st digit of the 2-digit number *3, it turns out that six of the nine possible values: 13, 23, 43, 53, 73, and 83, are all prime.\n",
    "\n",
    "By replacing the 3rd and 4th digits of 56**3 with the same digit, this 5-digit number is the first example having seven primes among the ten generated numbers, yielding the family: 56003, 56113, 56333, 56443, 56663, 56773, and 56993. Consequently 56003, being the first member of this family, is the smallest prime with this property.\n",
    "\n",
    "Find the smallest prime which, by replacing part of the number (not necessarily adjacent digits) with the same digit, is part of an eight prime value family."
   ]
  },
  {
   "cell_type": "markdown",
   "metadata": {},
   "source": [
    "Solution: Might take anothe brute force solution here. But there are clever ways to reduce the computations. \n",
    "\n",
    "Here are some simple observations regardless of the number of digits in n:\n",
    "1. n must end in either 1, 3, 7, 9 because it must be a prime. \n",
    "2. Because n must be the smallest in the 8-family, thus, the repeating digit must be either 0, 1 or 2. Assuming the best case scenario that all of 3, 4, ..., 9 all yield primes. \n",
    "3. The last digit can't be a part of the repeating digits, because if it is, then one of the 8-family must have an even number as the last digit and thus cannot be prime. \n",
    "\n",
    "Now we consider the digit sum mod 3 to test on the number n's divisibility. Between 0 and 9, there are four numbers gives 0 modulo 3 (0, 3, 6, 9), three gives 1 (1, 4, 7) and three gives 2 (2, 5, 8) . \n",
    "\n",
    "If there are only two repeating digits, then we can express the digit sum of n as 2r + k, where r is the repeating digit and k is the digit sum of the non-repeating digits. Now, 2r + k must not be 0 modulo 3. Because then this digit sum will be divisible by 3, and n will be divisible by 3. So 2r + k must be 1 or 2 modulo 3. Suppose 2r + k is 1 modulo 3, we then examine the 10-family of (2r + k, 2(r + 1 mod 10) + k, 2(r + 2 mod 10) + k, ..., , 2(r + 9 mod 10) + k) to pick out a eight family that satisfy the requested condition, or, an equivalent way to think about this to say which two of the 10-family can be eliminated. The number 2(r + 1 mod 10) + k is clearly divisible by 3 because 2(r + 0 mod 10) + k is 1 modulo 3. Even if this number is not a part of the 8 family, 2(r + 4 mod 10) + k and 2(r + 7 mod 10) + k are all divisible by 3. Because we can only eliminate two numbers from this 10-family, and then we found three numbers, we can conclude that 2r + k cannot be 1 modulo 3. \n",
    "\n",
    "The same reasoning means that 2r + k cannot be 2 modulo 3. \n",
    "\n",
    "Which means we cannot have two repeating digits in n. Similar argument also shows we cannot have four repeating digits. \n",
    "\n",
    "However, note that we can have three repeating digits. Because 3r + k = k modulo 3. i.e. the digit sum will be purely determined by the non-repeating digit sum."
   ]
  },
  {
   "cell_type": "code",
   "execution_count": 1,
   "metadata": {},
   "outputs": [],
   "source": [
    "from source import *"
   ]
  },
  {
   "cell_type": "code",
   "execution_count": 2,
   "metadata": {},
   "outputs": [],
   "source": [
    "import itertools"
   ]
  },
  {
   "cell_type": "code",
   "execution_count": 3,
   "metadata": {},
   "outputs": [
    {
     "name": "stdout",
     "output_type": "stream",
     "text": [
      "['0', '1', '2', '3', '4', '5', '6', '7', '8', '9']\n"
     ]
    }
   ],
   "source": [
    "digits = list(map(str, list(range(10))))\n",
    "print(digits)"
   ]
  },
  {
   "cell_type": "code",
   "execution_count": 4,
   "metadata": {},
   "outputs": [],
   "source": [
    "def replace_2digits(n_str: list, this_comb: tuple, this_digit: str):\n",
    "    n_str_modified = n_str[:]\n",
    "    n_str_modified[this_comb[0]] = this_digit\n",
    "    n_str_modified[this_comb[1]] = this_digit\n",
    "    n_modified = int(\"\".join(n_str_modified))\n",
    "    return(n_modified)"
   ]
  },
  {
   "cell_type": "code",
   "execution_count": 5,
   "metadata": {},
   "outputs": [
    {
     "name": "stdout",
     "output_type": "stream",
     "text": [
      "2\n"
     ]
    }
   ],
   "source": [
    "n_str = list(str(56003))\n",
    "sum0 = sum([x == '0' for x in n_str])\n",
    "print(sum0)"
   ]
  },
  {
   "cell_type": "code",
   "execution_count": 6,
   "metadata": {},
   "outputs": [],
   "source": [
    "n = 56003\n",
    "\n",
    "def family_seven(n):\n",
    "    n_str = list(str(n))\n",
    "#     repeats = len(n_str) != len(set(n_str))\n",
    "    sum0 = sum([x == '0' for x in n_str]) >= 2\n",
    "    sum1 = sum([x == '1' for x in n_str]) >= 2\n",
    "    sum2 = sum([x == '2' for x in n_str]) >= 2\n",
    "    sum3 = sum([x == '3' for x in n_str]) >= 2\n",
    "\n",
    "    if is_prime(n) and (sum0 or sum1 or sum2 or sum3):\n",
    "        choose2 = list(itertools.combinations(range(len(n_str)), 2))\n",
    "        for this_comb in choose2:\n",
    "            n_modified_list = [replace_2digits(n_str = n_str, this_comb = this_comb, this_digit = this_digit) for this_digit in digits]\n",
    "            num_primes_n_modified_list = len([x for x in n_modified_list if is_prime(x)])\n",
    "            if num_primes_n_modified_list >= 7:\n",
    "                print(\"Seven family found, breaking:\")\n",
    "                return(sorted(n_modified_list))\n",
    "#                 return(True)\n",
    "                break"
   ]
  },
  {
   "cell_type": "code",
   "execution_count": 7,
   "metadata": {},
   "outputs": [
    {
     "name": "stdout",
     "output_type": "stream",
     "text": [
      "Seven family found, breaking:\n",
      "[56003, 56113, 56223, 56333, 56443, 56553, 56663, 56773, 56883, 56993]\n",
      "None\n"
     ]
    }
   ],
   "source": [
    "print(family_seven(n = 56003))\n",
    "print(family_seven(n = 12345))"
   ]
  },
  {
   "cell_type": "code",
   "execution_count": 8,
   "metadata": {},
   "outputs": [
    {
     "name": "stdout",
     "output_type": "stream",
     "text": [
      "True\n"
     ]
    }
   ],
   "source": [
    "print(family_seven(n = 12345) == None)"
   ]
  },
  {
   "cell_type": "code",
   "execution_count": 9,
   "metadata": {},
   "outputs": [
    {
     "name": "stdout",
     "output_type": "stream",
     "text": [
      "Seven family found, breaking:\n",
      "[56003, 56113, 56223, 56333, 56443, 56553, 56663, 56773, 56883, 56993]\n"
     ]
    }
   ],
   "source": [
    "flag = True\n",
    "n = 10000\n",
    "\n",
    "while flag:\n",
    "    fs_result = family_seven(n)\n",
    "    if fs_result != None:\n",
    "        flag = False\n",
    "        print(fs_result)\n",
    "        break\n",
    "    n = n + 1"
   ]
  },
  {
   "cell_type": "markdown",
   "metadata": {},
   "source": [
    "## Real solution with family of 8"
   ]
  },
  {
   "cell_type": "code",
   "execution_count": 10,
   "metadata": {},
   "outputs": [],
   "source": [
    "def replace_3digits(n_str: list, this_comb: tuple, this_digit: str):\n",
    "    n_str_modified = n_str[:]\n",
    "    n_str_modified[this_comb[0]] = this_digit\n",
    "    n_str_modified[this_comb[1]] = this_digit\n",
    "    n_str_modified[this_comb[2]] = this_digit\n",
    "    n_modified = int(\"\".join(n_str_modified))\n",
    "    return(n_modified)"
   ]
  },
  {
   "cell_type": "code",
   "execution_count": 11,
   "metadata": {},
   "outputs": [],
   "source": [
    "def family_eight(n):\n",
    "    n_str = list(str(n))\n",
    "    sum0 = sum([x == '0' for x in n_str]) >= 3\n",
    "    sum1 = sum([x == '1' for x in n_str]) >= 3\n",
    "    sum2 = sum([x == '2' for x in n_str]) >= 3\n",
    "\n",
    "    if is_prime(n) and (sum0 or sum1 or sum2) and n_str[-1] in ['1', '3', '7', '9']:\n",
    "        choose3 = list(itertools.combinations(range(len(n_str) - 1), 3))\n",
    "        for this_comb in choose3:\n",
    "            n_modified_list = [replace_3digits(n_str = n_str, this_comb = this_comb, this_digit = this_digit) for this_digit in digits]\n",
    "            n_modified_list_primes = [x for x in n_modified_list if is_prime(x)]\n",
    "            n_modified_list_primes_len = len(n_modified_list_primes)\n",
    "            if n_modified_list_primes_len >= 8 and min(n_modified_list_primes) >= 1e5:\n",
    "                print(\"Eight family found, breaking:\")\n",
    "                return(sorted(n_modified_list_primes))\n",
    "                break"
   ]
  },
  {
   "cell_type": "code",
   "execution_count": 12,
   "metadata": {},
   "outputs": [
    {
     "name": "stdout",
     "output_type": "stream",
     "text": [
      "Eight family found, breaking:\n",
      "[121313, 222323, 323333, 424343, 525353, 626363, 828383, 929393]\n"
     ]
    }
   ],
   "source": [
    "flag = True\n",
    "n = 100000\n",
    "\n",
    "while flag and n <1e6:\n",
    "    fe_result = family_eight(n)\n",
    "    if fe_result != None:\n",
    "        flag = False\n",
    "        print(fe_result)\n",
    "        break\n",
    "    n = n + 1\n",
    "    if n % 100000 == 0:\n",
    "        print(str(n) + \"...\")"
   ]
  },
  {
   "cell_type": "markdown",
   "metadata": {},
   "source": [
    "# Problem 52: Permuted mutliples\n",
    "It can be seen that the number, 125874, and its double, 251748, contain exactly the same digits, but in a different order.\n",
    "\n",
    "Find the smallest positive integer, x, such that 2x, 3x, 4x, 5x, and 6x, contain the same digits."
   ]
  },
  {
   "cell_type": "code",
   "execution_count": 19,
   "metadata": {},
   "outputs": [],
   "source": [
    "from collections import Counter\n",
    "\n",
    "def compare_lists(list1, list2): \n",
    "    return Counter(list1) == Counter(list2)"
   ]
  },
  {
   "cell_type": "code",
   "execution_count": 25,
   "metadata": {},
   "outputs": [
    {
     "name": "stdout",
     "output_type": "stream",
     "text": [
      "True\n",
      "False\n",
      "False\n"
     ]
    }
   ],
   "source": [
    "print(compare_lists(['1', '2', '4'], ['2', '4', '1']))\n",
    "print(compare_lists(['1', '2', '4'], ['2', '4', '1', '1']))\n",
    "print(compare_lists(['123'], ['321']))"
   ]
  },
  {
   "cell_type": "code",
   "execution_count": 32,
   "metadata": {},
   "outputs": [
    {
     "name": "stdout",
     "output_type": "stream",
     "text": [
      "142857\n"
     ]
    }
   ],
   "source": [
    "flag = True\n",
    "n = 1\n",
    "\n",
    "while flag:\n",
    "    mutliples_n = [2*n, 3*n, 4*n, 5*n, 6*n]\n",
    "    multiples_n_str = [list(str(x)) for x in mutliples_n]\n",
    "    check = [compare_lists(x, list(str(n))) for x in multiples_n_str]\n",
    "    if all(check):\n",
    "        print(n)\n",
    "        flag = False\n",
    "        break\n",
    "    n = n + 1"
   ]
  },
  {
   "cell_type": "markdown",
   "metadata": {},
   "source": [
    "# Problem 53: Combinatoric selections\n",
    "\n",
    "How many nCr values are greater than 1 million, with n bounded between 1 and 100 and r bounded between 0 and n. "
   ]
  },
  {
   "cell_type": "code",
   "execution_count": 34,
   "metadata": {},
   "outputs": [],
   "source": [
    "import math"
   ]
  },
  {
   "cell_type": "code",
   "execution_count": 35,
   "metadata": {},
   "outputs": [
    {
     "data": {
      "text/plain": [
       "252"
      ]
     },
     "execution_count": 35,
     "metadata": {},
     "output_type": "execute_result"
    }
   ],
   "source": [
    "math.comb(10, 5)"
   ]
  },
  {
   "cell_type": "code",
   "execution_count": 39,
   "metadata": {},
   "outputs": [
    {
     "name": "stdout",
     "output_type": "stream",
     "text": [
      "4075\n"
     ]
    }
   ],
   "source": [
    "counter = 0\n",
    "for n in range(1, 101):\n",
    "    coef = [math.comb(n, x) for x in range(0, n + 1)]\n",
    "    counter = counter + sum([x >= 1e6 for x in coef])\n",
    "print(counter)"
   ]
  }
 ],
 "metadata": {
  "kernelspec": {
   "display_name": "Python 3",
   "language": "python",
   "name": "python3"
  },
  "language_info": {
   "codemirror_mode": {
    "name": "ipython",
    "version": 3
   },
   "file_extension": ".py",
   "mimetype": "text/x-python",
   "name": "python",
   "nbconvert_exporter": "python",
   "pygments_lexer": "ipython3",
   "version": "3.8.5"
  }
 },
 "nbformat": 4,
 "nbformat_minor": 4
}
